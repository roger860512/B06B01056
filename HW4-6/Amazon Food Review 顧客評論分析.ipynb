{
 "cells": [
  {
   "cell_type": "markdown",
   "metadata": {},
   "source": [
    "# Sentimentic analysis on Amazon Fine Food Reviews Dataset:\n",
    "    由於MovieLens 資料集沒有用戶評論，因此改為使用Amazon Food Reviews 資料集，這個資料及包含用戶ID、產品ID、用戶評論、好評率等等。\n",
    "    我會利用機器學習的方法試著分析資料，並給出分數預測以及好評率預測，最後再觀察結果後，給出結論與學習心得。\n",
    "## 本分析之目錄：\n",
    "#### 資料預處理（包含用nltk處理文字）\n",
    "#### 分數預測\n",
    "    logistic regression model on word count\n",
    "    logistic regression model on TFIDF\n",
    "    logistic regression model on TFIDF+ngram\n",
    "#### 好評率預測\n",
    "    logistic regression model on word count\n",
    "    logistic regression model on TFIDF+ngram\n",
    "    Study on non-context features \n",
    "#### 對於個別用戶之行為預測\n",
    "#### 觀察與分析結果"
   ]
  },
  {
   "cell_type": "markdown",
   "metadata": {},
   "source": [
    "## 資料預處理\n",
    "    First, let's load some libraries needed throughout the analysis.\n",
    "    Second, use pd.read_csv for reading the data.\n",
    "    Third, use numpy.where() to help us add some columns for upvote metrics (Helpful%, % upvote)\n",
    "    Last, analysis the new data and determine the objective of the Sentimentic analysis on the data."
   ]
  },
  {
   "cell_type": "code",
   "execution_count": 2,
   "metadata": {},
   "outputs": [
    {
     "data": {
      "text/html": [
       "<div>\n",
       "<style scoped>\n",
       "    .dataframe tbody tr th:only-of-type {\n",
       "        vertical-align: middle;\n",
       "    }\n",
       "\n",
       "    .dataframe tbody tr th {\n",
       "        vertical-align: top;\n",
       "    }\n",
       "\n",
       "    .dataframe thead th {\n",
       "        text-align: right;\n",
       "    }\n",
       "</style>\n",
       "<table border=\"1\" class=\"dataframe\">\n",
       "  <thead>\n",
       "    <tr style=\"text-align: right;\">\n",
       "      <th></th>\n",
       "      <th>Id</th>\n",
       "      <th>ProductId</th>\n",
       "      <th>UserId</th>\n",
       "      <th>ProfileName</th>\n",
       "      <th>HelpfulnessNumerator</th>\n",
       "      <th>HelpfulnessDenominator</th>\n",
       "      <th>Score</th>\n",
       "      <th>Time</th>\n",
       "      <th>Summary</th>\n",
       "      <th>Text</th>\n",
       "      <th>Helpful %</th>\n",
       "      <th>% Upvote</th>\n",
       "    </tr>\n",
       "  </thead>\n",
       "  <tbody>\n",
       "    <tr>\n",
       "      <th>0</th>\n",
       "      <td>1</td>\n",
       "      <td>B001E4KFG0</td>\n",
       "      <td>A3SGXH7AUHU8GW</td>\n",
       "      <td>delmartian</td>\n",
       "      <td>1</td>\n",
       "      <td>1</td>\n",
       "      <td>5</td>\n",
       "      <td>1303862400</td>\n",
       "      <td>Good Quality Dog Food</td>\n",
       "      <td>I have bought several of the Vitality canned d...</td>\n",
       "      <td>1.0</td>\n",
       "      <td>80-100%</td>\n",
       "    </tr>\n",
       "    <tr>\n",
       "      <th>1</th>\n",
       "      <td>2</td>\n",
       "      <td>B00813GRG4</td>\n",
       "      <td>A1D87F6ZCVE5NK</td>\n",
       "      <td>dll pa</td>\n",
       "      <td>0</td>\n",
       "      <td>0</td>\n",
       "      <td>1</td>\n",
       "      <td>1346976000</td>\n",
       "      <td>Not as Advertised</td>\n",
       "      <td>Product arrived labeled as Jumbo Salted Peanut...</td>\n",
       "      <td>-1.0</td>\n",
       "      <td>Empty</td>\n",
       "    </tr>\n",
       "    <tr>\n",
       "      <th>2</th>\n",
       "      <td>3</td>\n",
       "      <td>B000LQOCH0</td>\n",
       "      <td>ABXLMWJIXXAIN</td>\n",
       "      <td>Natalia Corres \"Natalia Corres\"</td>\n",
       "      <td>1</td>\n",
       "      <td>1</td>\n",
       "      <td>4</td>\n",
       "      <td>1219017600</td>\n",
       "      <td>\"Delight\" says it all</td>\n",
       "      <td>This is a confection that has been around a fe...</td>\n",
       "      <td>1.0</td>\n",
       "      <td>80-100%</td>\n",
       "    </tr>\n",
       "    <tr>\n",
       "      <th>3</th>\n",
       "      <td>4</td>\n",
       "      <td>B000UA0QIQ</td>\n",
       "      <td>A395BORC6FGVXV</td>\n",
       "      <td>Karl</td>\n",
       "      <td>3</td>\n",
       "      <td>3</td>\n",
       "      <td>2</td>\n",
       "      <td>1307923200</td>\n",
       "      <td>Cough Medicine</td>\n",
       "      <td>If you are looking for the secret ingredient i...</td>\n",
       "      <td>1.0</td>\n",
       "      <td>80-100%</td>\n",
       "    </tr>\n",
       "    <tr>\n",
       "      <th>4</th>\n",
       "      <td>5</td>\n",
       "      <td>B006K2ZZ7K</td>\n",
       "      <td>A1UQRSCLF8GW1T</td>\n",
       "      <td>Michael D. Bigham \"M. Wassir\"</td>\n",
       "      <td>0</td>\n",
       "      <td>0</td>\n",
       "      <td>5</td>\n",
       "      <td>1350777600</td>\n",
       "      <td>Great taffy</td>\n",
       "      <td>Great taffy at a great price.  There was a wid...</td>\n",
       "      <td>-1.0</td>\n",
       "      <td>Empty</td>\n",
       "    </tr>\n",
       "  </tbody>\n",
       "</table>\n",
       "</div>"
      ],
      "text/plain": [
       "   Id   ProductId          UserId                      ProfileName  \\\n",
       "0   1  B001E4KFG0  A3SGXH7AUHU8GW                       delmartian   \n",
       "1   2  B00813GRG4  A1D87F6ZCVE5NK                           dll pa   \n",
       "2   3  B000LQOCH0   ABXLMWJIXXAIN  Natalia Corres \"Natalia Corres\"   \n",
       "3   4  B000UA0QIQ  A395BORC6FGVXV                             Karl   \n",
       "4   5  B006K2ZZ7K  A1UQRSCLF8GW1T    Michael D. Bigham \"M. Wassir\"   \n",
       "\n",
       "   HelpfulnessNumerator  HelpfulnessDenominator  Score        Time  \\\n",
       "0                     1                       1      5  1303862400   \n",
       "1                     0                       0      1  1346976000   \n",
       "2                     1                       1      4  1219017600   \n",
       "3                     3                       3      2  1307923200   \n",
       "4                     0                       0      5  1350777600   \n",
       "\n",
       "                 Summary                                               Text  \\\n",
       "0  Good Quality Dog Food  I have bought several of the Vitality canned d...   \n",
       "1      Not as Advertised  Product arrived labeled as Jumbo Salted Peanut...   \n",
       "2  \"Delight\" says it all  This is a confection that has been around a fe...   \n",
       "3         Cough Medicine  If you are looking for the secret ingredient i...   \n",
       "4            Great taffy  Great taffy at a great price.  There was a wid...   \n",
       "\n",
       "   Helpful % % Upvote  \n",
       "0        1.0  80-100%  \n",
       "1       -1.0    Empty  \n",
       "2        1.0  80-100%  \n",
       "3        1.0  80-100%  \n",
       "4       -1.0    Empty  "
      ]
     },
     "execution_count": 2,
     "metadata": {},
     "output_type": "execute_result"
    }
   ],
   "source": [
    "import pandas as pd\n",
    "import numpy as np\n",
    "import matplotlib.pyplot as plt\n",
    "import seaborn as sns\n",
    "from sklearn.feature_extraction.text import CountVectorizer\n",
    "from sklearn.feature_extraction.text import TfidfVectorizer\n",
    "from sklearn.linear_model import LogisticRegression\n",
    "from sklearn.model_selection import train_test_split\n",
    "from sklearn.dummy import DummyClassifier\n",
    "from string import punctuation\n",
    "from sklearn import svm\n",
    "from nltk.corpus import stopwords\n",
    "from nltk.stem import WordNetLemmatizer\n",
    "import nltk\n",
    "from nltk import ngrams\n",
    "from itertools import chain\n",
    "from wordcloud import WordCloud\n",
    "\n",
    "odf = pd.read_csv('/Users/roger/Desktop/Workspace/amazon-fine-food-reviews/Reviews.tsv')\n",
    "odf['Helpful %'] = np.where(odf['HelpfulnessDenominator'] > 0, odf['HelpfulnessNumerator'] / odf['HelpfulnessDenominator'], -1)\n",
    "odf['% Upvote'] = pd.cut(odf['Helpful %'], bins = [-1, 0, 0.2, 0.4, 0.6, 0.8, 1.0], labels = ['Empty', '0-20%', '20-40%', '40-60%', '60-80%', '80-100%'], include_lowest = True)\n",
    "odf.head()"
   ]
  },
  {
   "cell_type": "markdown",
   "metadata": {},
   "source": [
    "    觀察完資料集後，我發現我並不能很直觀的看出評論與評分的關係，因此我接著要做的是利用圖表幫助我判斷以上關係。"
   ]
  },
  {
   "cell_type": "code",
   "execution_count": 4,
   "metadata": {},
   "outputs": [
    {
     "data": {
      "text/plain": [
       "Text(0.5,1,'How helpful users find among user scores')"
      ]
     },
     "execution_count": 4,
     "metadata": {},
     "output_type": "execute_result"
    },
    {
     "data": {
      "image/png": "[encoded data removed]",
      "text/plain": [
       "<matplotlib.figure.Figure at 0x1a11d8bd30>"
      ]
     },
     "metadata": {},
     "output_type": "display_data"
    }
   ],
   "source": [
    "df_s = odf.groupby(['Score', '% Upvote']).agg({'Id': 'count'})\n",
    "df_s = df_s.unstack()\n",
    "df_s.columns = df_s.columns.get_level_values(1)\n",
    "fig = plt.figure(figsize=(15,10))\n",
    "\n",
    "sns.heatmap(df_s[df_s.columns[::-1]].T, cmap = 'YlGnBu', linewidths=.5, annot = True, fmt = 'd', cbar_kws={'label': '# reviews'})\n",
    "plt.yticks(rotation=0)\n",
    "plt.title('How helpful users find among user scores')"
   ]
  },
  {
   "cell_type": "markdown",
   "metadata": {},
   "source": [
    "#### 由以上圖表，我們可以發現：\n",
    "    1. 用戶評論會偏向高分數的食物。\n",
    "    2. 沒有被評論的食物有超過一半的比例。\n",
    "    3. 大多數人認同評分為5分的食物，也就是對於好吃的食物每個人的喜好不會有很大的差異。"
   ]
  },
  {
   "cell_type": "markdown",
   "metadata": {},
   "source": [
    "### 顧客評論內容處理\n",
    "    接著，我要開始分析顧客的評論，因此我先將它分為好評與差評。\n",
    "    由於評分為3屬於顧客不喜歡也不討厭的食物，因此我先將其汰除掉，也就是評分大於3歸之為好評，反之，則為差評。"
   ]
  },
  {
   "cell_type": "code",
   "execution_count": 5,
   "metadata": {},
   "outputs": [],
   "source": [
    "df = odf[odf['Score'] != 3]\n",
    "X = df['Text']\n",
    "y_dict = {1:0, 2:0, 4:1, 5:1}\n",
    "y = df['Score'].map(y_dict)"
   ]
  },
  {
   "cell_type": "markdown",
   "metadata": {},
   "source": [
    "## Score Prediction\n",
    "    處理完以上資料後，我們就可以開始設計模型和訓練資料，以得出我們想要看到的結果。\n",
    "    在這邊，我們的目的是利用顧客評論進行分數預測。\n",
    "    因此，首先我們要做的是定義幾個我們接下來會經常使用的工具，以加快我們的效率。\n",
    "    接著，我們就可以利用自己熟悉的方式去顯現模型跑出來的結果，在這邊要注意的是，我們不需要將所有的資料都顯示出來，我們只想看到比較極端的值，因此我們只需要取前20positive與negative的資料就可以了。"
   ]
  },
  {
   "cell_type": "code",
   "execution_count": 7,
   "metadata": {},
   "outputs": [],
   "source": [
    "c = CountVectorizer(stop_words = 'english')\n",
    "\n",
    "def text_fit(X, y, model,clf_model,coef_show=1):\n",
    "    \n",
    "    X_c = model.fit_transform(X)\n",
    "    print('# features: {}'.format(X_c.shape[1]))\n",
    "    X_train, X_test, y_train, y_test = train_test_split(X_c, y, random_state=0)\n",
    "    print('# train records: {}'.format(X_train.shape[0]))\n",
    "    print('# test records: {}'.format(X_test.shape[0]))\n",
    "    clf = clf_model.fit(X_train, y_train)\n",
    "    acc = clf.score(X_test, y_test)\n",
    "    print ('Model Accuracy: {}'.format(acc))\n",
    "    \n",
    "    if coef_show == 1: \n",
    "        w = model.get_feature_names()\n",
    "        coef = clf.coef_.tolist()[0]\n",
    "        coeff_df = pd.DataFrame({'Word' : w, 'Coefficient' : coef})\n",
    "        coeff_df = coeff_df.sort_values(['Coefficient', 'Word'], ascending=[0, 1])\n",
    "        print('')\n",
    "        print('-Top 20 positive-')\n",
    "        print(coeff_df.head(20).to_string(index=False))\n",
    "        print('')\n",
    "        print('-Top 20 negative-')        \n",
    "        print(coeff_df.tail(20).to_string(index=False))"
   ]
  },
  {
   "cell_type": "markdown",
   "metadata": {},
   "source": [
    "### LogicticRegession model on CountVectorizer\n",
    "    第一個模型我們先利用CountVectorizer對文字進行向量化處理，並使用邏輯回歸（LogisticRegression）的方式對資料進行分類。\n",
    "    使用這兩個後我們可以得出前20positive和negative的字詞，以及模型準確率的估計。"
   ]
  },
  {
   "cell_type": "code",
   "execution_count": 6,
   "metadata": {},
   "outputs": [
    {
     "name": "stdout",
     "output_type": "stream",
     "text": [
      "# features: 114969\n",
      "# train records: 394360\n",
      "# test records: 131454\n"
     ]
    },
    {
     "name": "stderr",
     "output_type": "stream",
     "text": [
      "/Users/roger/anaconda3/lib/python3.6/site-packages/sklearn/linear_model/logistic.py:433: FutureWarning: Default solver will be changed to 'lbfgs' in 0.22. Specify a solver to silence this warning.\n",
      "  FutureWarning)\n",
      "/Users/roger/anaconda3/lib/python3.6/site-packages/sklearn/svm/base.py:931: ConvergenceWarning: Liblinear failed to converge, increase the number of iterations.\n",
      "  \"the number of iterations.\", ConvergenceWarning)\n"
     ]
    },
    {
     "name": "stdout",
     "output_type": "stream",
     "text": [
      "Model Accuracy: 0.9387162049081809\n",
      "\n",
      "-Top 20 positive-\n",
      "Coefficient           Word\n",
      "   3.329098     pleasantly\n",
      "   3.205069  emeraldforest\n",
      "   3.031077        chedder\n",
      "   2.564327        easiest\n",
      "   2.456505        solving\n",
      "   2.450984        blowout\n",
      "   2.374133       heartier\n",
      "   2.370813      addicting\n",
      "   2.301797     unwrapping\n",
      "   2.300840          herrs\n",
      "   2.294465         skewed\n",
      "   2.292517       drawback\n",
      "   2.290527         hooked\n",
      "   2.263369         hahaha\n",
      "   2.249899       downside\n",
      "   2.241492     correction\n",
      "   2.197172          whisk\n",
      "   2.191359         ration\n",
      "   2.190545         bertie\n",
      "   2.170247     dishwasher\n",
      "\n",
      "-Top 20 negative-\n",
      "Coefficient           Word\n",
      "  -2.466164     unfinished\n",
      "  -2.492352       tastless\n",
      "  -2.601571        weakest\n",
      "  -2.613739      overrated\n",
      "  -2.692912      cancelled\n",
      "  -2.730855    unappealing\n",
      "  -2.744304        furious\n",
      "  -2.753579     oversalted\n",
      "  -2.821892      deceptive\n",
      "  -2.822589  disappointing\n",
      "  -2.826292    undrinkable\n",
      "  -2.829160    embarrassed\n",
      "  -2.874355      redeeming\n",
      "  -2.892221          worst\n",
      "  -2.919696  dissapointing\n",
      "  -2.949374            ick\n",
      "  -2.960679          budda\n",
      "  -2.982970          280mg\n",
      "  -3.036152        3095826\n",
      "  -3.291752   unacceptable\n"
     ]
    }
   ],
   "source": [
    "text_fit(X, y, c, LogisticRegression())"
   ]
  },
  {
   "cell_type": "markdown",
   "metadata": {},
   "source": [
    "    若由準確率來判斷，接近94%的準確率，可以看出結果是不錯的。\n",
    "    但接著往下看，我們可以看到在前20positive與negative的資料中，有許多字詞是沒有意義的，例如：280mg、3095826......\n",
    "    這樣也會導致我們無法利用評論內容準確的預測分數"
   ]
  },
  {
   "cell_type": "markdown",
   "metadata": {},
   "source": [
    "### DummyClassifier model on CountVectorizer\n",
    "    接著，我們可以利用DummyClassifier得出基礎準確率，這邊是使用positive類別為主要類別。"
   ]
  },
  {
   "cell_type": "code",
   "execution_count": 8,
   "metadata": {},
   "outputs": [
    {
     "name": "stdout",
     "output_type": "stream",
     "text": [
      "# features: 114969\n",
      "# train records: 394360\n",
      "# test records: 131454\n",
      "Model Accuracy: 0.7363944801983964\n"
     ]
    }
   ],
   "source": [
    "text_fit(X, y, c, DummyClassifier(),0)"
   ]
  },
  {
   "cell_type": "markdown",
   "metadata": {},
   "source": [
    "### LogisticRegession model on TFIDF Vectorizer\n",
    "    接下來，因為剛才得出結果的不合理處，我利用修改文字向量化的方式（由CountVectorizer 改為 TF-IDF Vectorizer）進行嘗試，得出以下結果："
   ]
  },
  {
   "cell_type": "code",
   "execution_count": 8,
   "metadata": {},
   "outputs": [
    {
     "name": "stdout",
     "output_type": "stream",
     "text": [
      "# features: 114969\n",
      "# train records: 394360\n",
      "# test records: 131454\n"
     ]
    },
    {
     "name": "stderr",
     "output_type": "stream",
     "text": [
      "/Users/roger/anaconda3/lib/python3.6/site-packages/sklearn/linear_model/logistic.py:433: FutureWarning: Default solver will be changed to 'lbfgs' in 0.22. Specify a solver to silence this warning.\n",
      "  FutureWarning)\n"
     ]
    },
    {
     "name": "stdout",
     "output_type": "stream",
     "text": [
      "Model Accuracy: 0.9346767690598993\n",
      "\n",
      "-Top 20 positive-\n",
      "Coefficient        Word\n",
      "  13.722122       great\n",
      "  12.147902   delicious\n",
      "  12.014958        best\n",
      "  10.605239     perfect\n",
      "   9.860653   excellent\n",
      "   9.581171       loves\n",
      "   9.036909      highly\n",
      "   8.363466        love\n",
      "   7.966271   wonderful\n",
      "   7.796376     amazing\n",
      "   7.631784     awesome\n",
      "   7.339035        good\n",
      "   7.247790  pleasantly\n",
      "   7.190196        nice\n",
      "   7.020301      hooked\n",
      "   6.956696       yummy\n",
      "   6.941086    favorite\n",
      "   6.929284     pleased\n",
      "   6.883906      smooth\n",
      "   6.728033   fantastic\n",
      "\n",
      "-Top 20 negative-\n",
      "Coefficient            Word\n",
      "  -5.624256           waste\n",
      "  -5.719871            poor\n",
      "  -5.724237     undrinkable\n",
      "  -6.012937            yuck\n",
      "  -6.151728           stale\n",
      "  -6.277542           worse\n",
      "  -6.319804           bland\n",
      "  -6.552196      disgusting\n",
      "  -6.558868            weak\n",
      "  -6.686740          return\n",
      "  -6.731253           threw\n",
      "  -6.837394       tasteless\n",
      "  -7.436267   unfortunately\n",
      "  -7.790216        horrible\n",
      "  -8.145038           awful\n",
      "  -8.311595  disappointment\n",
      "  -8.492979    disappointed\n",
      "  -9.261794        terrible\n",
      " -10.115582   disappointing\n",
      " -11.709648           worst\n"
     ]
    }
   ],
   "source": [
    "tfidf = TfidfVectorizer(stop_words = 'english')\n",
    "text_fit(X, y, tfidf, LogisticRegression())"
   ]
  },
  {
   "cell_type": "markdown",
   "metadata": {},
   "source": [
    "    由以上結果，我們可以發現以TF-IDF Vectorizer 進行的話，雖然準確率差不多，但字詞會變得合理許多，而且相對於CountVectorizer，係數的量值也會有相當大的提升，這對我們的分數預測的合理性與正確性都會更接近目標。"
   ]
  },
  {
   "cell_type": "markdown",
   "metadata": {},
   "source": [
    "    雖然以上結果，我已經相當滿意，但我們還是不能放棄嘗試追求更好的模型，在這邊我嘗試了幾個不同的向量化方式，找到最能接近目標的方式：\n",
    "### LogisticRegression model on TFIDF Vectorizer +ngram"
   ]
  },
  {
   "cell_type": "code",
   "execution_count": 9,
   "metadata": {},
   "outputs": [
    {
     "name": "stdout",
     "output_type": "stream",
     "text": [
      "# features: 3933179\n",
      "# train records: 394360\n",
      "# test records: 131454\n"
     ]
    },
    {
     "name": "stderr",
     "output_type": "stream",
     "text": [
      "/Users/roger/anaconda3/lib/python3.6/site-packages/sklearn/linear_model/logistic.py:433: FutureWarning: Default solver will be changed to 'lbfgs' in 0.22. Specify a solver to silence this warning.\n",
      "  FutureWarning)\n"
     ]
    },
    {
     "name": "stdout",
     "output_type": "stream",
     "text": [
      "Model Accuracy: 0.9454714196601093\n",
      "\n",
      "-Top 20 positive-\n",
      "Coefficient              Word\n",
      "  21.054577             great\n",
      "  17.831601              best\n",
      "  17.012872         delicious\n",
      "  14.624623           perfect\n",
      "  13.611160             loves\n",
      "  13.272387              love\n",
      "  13.144334         excellent\n",
      "  11.418326              good\n",
      "  11.321080         wonderful\n",
      "  10.811514              nice\n",
      "  10.594919          favorite\n",
      "   9.691426           amazing\n",
      "   9.371318           awesome\n",
      "   9.143947              easy\n",
      "   8.947594           pleased\n",
      "   8.906614             happy\n",
      "   8.715677            smooth\n",
      "   8.592553             yummy\n",
      "   8.466686            highly\n",
      "   8.423070  highly recommend\n",
      "\n",
      "-Top 20 negative-\n",
      "Coefficient            Word\n",
      "  -7.807009           maybe\n",
      "  -8.129029          hoping\n",
      "  -8.250228       tasteless\n",
      "  -8.319548           money\n",
      "  -8.353005           worse\n",
      "  -8.564717         thought\n",
      "  -8.764723      disgusting\n",
      "  -9.145294           bland\n",
      "  -9.304977           threw\n",
      "  -9.893504           stale\n",
      "  -9.963747            weak\n",
      " -10.144197          return\n",
      " -10.343525  disappointment\n",
      " -10.835954   unfortunately\n",
      " -11.312277        horrible\n",
      " -11.814174           awful\n",
      " -13.034125        terrible\n",
      " -13.444856   disappointing\n",
      " -14.709057    disappointed\n",
      " -15.211034           worst\n"
     ]
    }
   ],
   "source": [
    "tfidf_n = TfidfVectorizer(ngram_range=(1,2),stop_words = 'english')\n",
    "text_fit(X, y, tfidf_n, LogisticRegression())"
   ]
  },
  {
   "cell_type": "markdown",
   "metadata": {},
   "source": [
    "## Upvote prdiction \n",
    "    完成分數預測後，接著我們要進行的是好評率預測。\n",
    "    在這邊，我們需要使用的是'%Upvote'欄位中的數據，與上面原因相同，我們將40-60%的好評率刪除，並以0-40%為negative（0），60-100%為positive（1），得出以下結果："
   ]
  },
  {
   "cell_type": "code",
   "execution_count": 13,
   "metadata": {},
   "outputs": [
    {
     "name": "stdout",
     "output_type": "stream",
     "text": [
      "Class distribution:\n",
      "1    151721\n",
      "0      2707\n",
      "Name: % Upvote, dtype: int64\n"
     ]
    }
   ],
   "source": [
    "df = df[df['Score'] == 5]\n",
    "df = df[df['% Upvote'].isin(['0-20%', '20-40%', '60-80%', '80-100%'])]\n",
    "df.shape\n",
    "\n",
    "X = df['Text']\n",
    "y_dict = {'0-20%': 0, '20-40%': 0, '60-80%': 1, '80-100%': 1}\n",
    "y = df['% Upvote'].map(y_dict)\n",
    "\n",
    "print('Class distribution:')\n",
    "print(y.value_counts())"
   ]
  },
  {
   "cell_type": "markdown",
   "metadata": {},
   "source": [
    "    從以上結果我們可以看出好評評論的數量是遠遠大於差評評論的數量。（也符合我們在最一開始觀察資料所得出的結論）\n",
    "    因此，我們需要重構資料，讓兩者數量平衡，而採取的方式是隨機選取好評資料，選到與差評資料相同的量，使兩者所佔所有交易量的比率相同。"
   ]
  },
  {
   "cell_type": "code",
   "execution_count": 14,
   "metadata": {},
   "outputs": [
    {
     "name": "stdout",
     "output_type": "stream",
     "text": [
      "Percentage of upvote transactions:  0.5\n",
      "Percentage of downvote transactions:  0.5\n",
      "Total number of records in resampled data:  5414\n"
     ]
    },
    {
     "name": "stderr",
     "output_type": "stream",
     "text": [
      "/Users/roger/anaconda3/lib/python3.6/site-packages/ipykernel_launcher.py:13: DeprecationWarning: \n",
      ".ix is deprecated. Please use\n",
      ".loc for label based indexing or\n",
      ".iloc for positional indexing\n",
      "\n",
      "See the documentation here:\n",
      "http://pandas.pydata.org/pandas-docs/stable/indexing.html#ix-indexer-is-deprecated\n",
      "  del sys.path[0]\n"
     ]
    }
   ],
   "source": [
    "df_s = pd.DataFrame(data = [X,y]).T\n",
    "\n",
    "Downvote_records = len(df_s[df_s['% Upvote'] == 0])\n",
    "Downvote_indices = np.array(df_s[df_s['% Upvote'] == 0].index)\n",
    "\n",
    "Upvote_indices = df_s[df_s['% Upvote'] == 1].index\n",
    "\n",
    "random_upvote_indices = np.random.choice(Upvote_indices, Downvote_records, replace = False)\n",
    "random_upvote_indices = np.array(random_upvote_indices)\n",
    "\n",
    "under_sample_indices = np.concatenate([Downvote_indices,random_upvote_indices])\n",
    "\n",
    "under_sample_data = df_s.ix[under_sample_indices, :]\n",
    "X_u = under_sample_data['Text']\n",
    "under_sample_data['% Upvote'] = under_sample_data['% Upvote'].astype(int)\n",
    "y_u = under_sample_data['% Upvote']\n",
    "\n",
    "\n",
    "print(\"Percentage of upvote transactions: \", len(under_sample_data[under_sample_data['% Upvote'] == 1])/len(under_sample_data))\n",
    "print(\"Percentage of downvote transactions: \", len(under_sample_data[under_sample_data['% Upvote'] == 0])/len(under_sample_data))\n",
    "print(\"Total number of records in resampled data: \", len(under_sample_data))"
   ]
  },
  {
   "cell_type": "markdown",
   "metadata": {},
   "source": [
    "    OK，看到以上結果後，我們知道我們準備好了，可以接下去進行好評率預測了。\n",
    "### Logistic Refression model on CountVectorizer\n",
    "    這邊可以沿用以上分數預測使用的模型（text_fit()），但注意要將被訓練得資料改為以上重構後的好評率資料數據"
   ]
  },
  {
   "cell_type": "code",
   "execution_count": 15,
   "metadata": {},
   "outputs": [
    {
     "name": "stdout",
     "output_type": "stream",
     "text": [
      "# features: 15916\n",
      "# train records: 4060\n",
      "# test records: 1354\n",
      "Model Accuracy: 0.7208271787296898\n",
      "\n",
      "-Top 20 positive-\n",
      "Coefficient         Word\n",
      "   1.491738        value\n",
      "   1.360252    favorites\n",
      "   1.326563         sooo\n",
      "   1.227237        crisp\n",
      "   1.223151    container\n",
      "   1.222770       unlike\n",
      "   1.184629       salmon\n",
      "   1.142924       heaven\n",
      "   1.127366    allergies\n",
      "   1.071214       ginger\n",
      "   1.057761          com\n",
      "   1.029963          run\n",
      "   1.021544     cherries\n",
      "   1.017139      sitting\n",
      "   1.016206  alternative\n",
      "   1.006199      veggies\n",
      "   0.996454       adults\n",
      "   0.988384      offered\n",
      "   0.974835       actual\n",
      "   0.960794         goes\n",
      "\n",
      "-Top 20 negative-\n",
      "Coefficient      Word\n",
      "  -1.018365    matter\n",
      "  -1.020211     gonna\n",
      "  -1.024746   weather\n",
      "  -1.034702      goat\n",
      "  -1.038663  complain\n",
      "  -1.040126    sooner\n",
      "  -1.042872      zico\n",
      "  -1.063707   caramel\n",
      "  -1.075905      yoga\n",
      "  -1.087552    review\n",
      "  -1.142895      hand\n",
      "  -1.153439     purse\n",
      "  -1.220507     cause\n",
      "  -1.226332     boost\n",
      "  -1.292683    lipton\n",
      "  -1.322845       pod\n",
      "  -1.374109    newman\n",
      "  -1.395279  brooklyn\n",
      "  -1.425783     kashi\n",
      "  -1.593629    marley\n"
     ]
    },
    {
     "name": "stderr",
     "output_type": "stream",
     "text": [
      "/Users/roger/anaconda3/lib/python3.6/site-packages/sklearn/linear_model/logistic.py:433: FutureWarning: Default solver will be changed to 'lbfgs' in 0.22. Specify a solver to silence this warning.\n",
      "  FutureWarning)\n"
     ]
    }
   ],
   "source": [
    "c = CountVectorizer(stop_words = 'english')\n",
    "\n",
    "text_fit(X_u, y_u, c, LogisticRegression())"
   ]
  },
  {
   "cell_type": "markdown",
   "metadata": {},
   "source": [
    "    觀察以上結果，這....幾乎沒有任何意義\n",
    "    既然如此，趕緊繼續用別的方法訓練資料，我們可以由上面的訓練方式挑出一個最能準確達到目的的方法：TF-IDF vectorizer +ngram\n",
    "### Logistic Regression model on TFIDF Vectorizer +ngram"
   ]
  },
  {
   "cell_type": "code",
   "execution_count": 16,
   "metadata": {},
   "outputs": [
    {
     "name": "stdout",
     "output_type": "stream",
     "text": [
      "# features: 141924\n",
      "# train records: 4060\n",
      "# test records: 1354\n",
      "Model Accuracy: 0.7282127031019202\n"
     ]
    },
    {
     "name": "stderr",
     "output_type": "stream",
     "text": [
      "/Users/roger/anaconda3/lib/python3.6/site-packages/sklearn/linear_model/logistic.py:433: FutureWarning: Default solver will be changed to 'lbfgs' in 0.22. Specify a solver to silence this warning.\n",
      "  FutureWarning)\n"
     ]
    },
    {
     "name": "stdout",
     "output_type": "stream",
     "text": [
      "\n",
      "-Top 20 positive-\n",
      "Coefficient       Word\n",
      "   1.606809    perfect\n",
      "   1.483411         ve\n",
      "   1.418200       food\n",
      "   1.360921     ginger\n",
      "   1.318780       make\n",
      "   1.309654        mix\n",
      "   1.273542       teas\n",
      "   1.217647      fresh\n",
      "   1.202683     flavor\n",
      "   1.181198      value\n",
      "   1.126074      light\n",
      "   1.108868        tea\n",
      "   1.100116     gluten\n",
      "   1.024997  wonderful\n",
      "   1.002548      bread\n",
      "   0.999198       real\n",
      "   0.999072       salt\n",
      "   0.978318      tried\n",
      "   0.965320   cinnamon\n",
      "   0.947112  container\n",
      "\n",
      "-Top 20 negative-\n",
      "Coefficient      Word\n",
      "  -0.902856    people\n",
      "  -0.906409       new\n",
      "  -0.916846  received\n",
      "  -0.918858      yoga\n",
      "  -0.951071   service\n",
      "  -0.973575    seller\n",
      "  -1.000924     order\n",
      "  -1.018123       pod\n",
      "  -1.029546     thank\n",
      "  -1.085789       way\n",
      "  -1.090995    lipton\n",
      "  -1.121527    marley\n",
      "  -1.161850      know\n",
      "  -1.243587    thanks\n",
      "  -1.304212      zico\n",
      "  -1.325006     drink\n",
      "  -1.346200    coffee\n",
      "  -1.760456        br\n",
      "  -1.858587   product\n",
      "  -2.017336     water\n"
     ]
    }
   ],
   "source": [
    "tfidf_n = TfidfVectorizer(ngram_range=(1,2),stop_words = 'english')\n",
    "\n",
    "text_fit(X_u, y_u, tfidf_n, LogisticRegression())"
   ]
  },
  {
   "cell_type": "markdown",
   "metadata": {},
   "source": [
    "    痾...這結果同樣令我們失望，那是哪裡出了問題呢？\n",
    "    我想我需要重新觀察這些評論，並用不同的方式分析這些資料"
   ]
  },
  {
   "cell_type": "markdown",
   "metadata": {},
   "source": [
    "### Study on non-context features\n",
    "    印出評論，重新觀察好評與差評的評論："
   ]
  },
  {
   "cell_type": "code",
   "execution_count": 17,
   "metadata": {},
   "outputs": [
    {
     "name": "stdout",
     "output_type": "stream",
     "text": [
      "Downvote score 5 comments examples:\n",
      "207      Hard to find the wintergreen smalls [sugar fre...\n",
      "4511     Wonderful, smooth, satisfying decaf coffee wit...\n",
      "7787     My husband is a big coffee drinker, and with a...\n",
      "12072    We love French roast coffee and my husband mus...\n",
      "13671    THIS IS A LOVELY VERY HEALTHY TREE,ALONG WITH ...\n",
      "Name: Text, dtype: object\n",
      "Upvote score 5 comments examples\n",
      "200347    These coffee pods taste great and fit in my Se...\n",
      "317473    This is hands down the best decaf. I have trie...\n",
      "81568     I would just like to say that this company pro...\n",
      "388519    Our  golden retriever likes her new elevated b...\n",
      "444574    Great option for those needing a high-quality ...\n",
      "Name: Text, dtype: object\n"
     ]
    }
   ],
   "source": [
    "print('Downvote score 5 comments examples:')\n",
    "print(under_sample_data[under_sample_data['% Upvote']==0]['Text'].iloc[:100:20])\n",
    "print('Upvote score 5 comments examples')\n",
    "print(under_sample_data[under_sample_data['% Upvote']==1]['Text'].iloc[:100:20])"
   ]
  },
  {
   "cell_type": "markdown",
   "metadata": {},
   "source": [
    "    接著，我們試著猜想幾個可能影響到結果的因素，並將其提取出來：\n",
    "    分別為： 'word_count' 'capital_count' 'question_mark' 'exclamation_mark' 'puntuation'"
   ]
  },
  {
   "cell_type": "code",
   "execution_count": 18,
   "metadata": {},
   "outputs": [
    {
     "name": "stdout",
     "output_type": "stream",
     "text": [
      "% Upvote                  0          1\n",
      "word_count        83.927226  85.873291\n",
      "capital_count     19.252678  13.952346\n",
      "question_mark      0.180273   0.085334\n",
      "exclamation_mark   0.906169   0.929812\n",
      "punctuation       22.482822  19.387883\n"
     ]
    }
   ],
   "source": [
    "under_sample_data['word_count'] = under_sample_data['Text'].apply(lambda x: len(x.split()))\n",
    "under_sample_data['capital_count'] = under_sample_data['Text'].apply(lambda x: sum(1 for c in x if c.isupper()))\n",
    "under_sample_data['question_mark'] = under_sample_data['Text'].apply(lambda x: sum(1 for c in x if c == '?'))\n",
    "under_sample_data['exclamation_mark'] = under_sample_data['Text'].apply(lambda x: sum(1 for c in x if c == '!'))\n",
    "under_sample_data['punctuation'] = under_sample_data['Text'].apply(lambda x: sum(1 for c in x if c in punctuation))\n",
    "\n",
    "print(under_sample_data.groupby('% Upvote').agg({'word_count': 'mean', 'capital_count': 'mean', 'question_mark': 'mean', 'exclamation_mark': 'mean', 'punctuation': 'mean'}).T)\n",
    "\n",
    "X_num = under_sample_data[under_sample_data.columns.difference(['% Upvote', 'Text'])]\n",
    "y_num = under_sample_data['% Upvote']"
   ]
  },
  {
   "cell_type": "markdown",
   "metadata": {},
   "source": [
    "    提取後，我們再來嘗試訓練資料："
   ]
  },
  {
   "cell_type": "code",
   "execution_count": 19,
   "metadata": {},
   "outputs": [
    {
     "name": "stderr",
     "output_type": "stream",
     "text": [
      "/Users/roger/anaconda3/lib/python3.6/site-packages/sklearn/linear_model/logistic.py:433: FutureWarning: Default solver will be changed to 'lbfgs' in 0.22. Specify a solver to silence this warning.\n",
      "  FutureWarning)\n",
      "/Users/roger/anaconda3/lib/python3.6/site-packages/sklearn/svm/base.py:196: FutureWarning: The default value of gamma will change from 'auto' to 'scale' in version 0.22 to account better for unscaled features. Set gamma explicitly to 'auto' or 'scale' to avoid this warning.\n",
      "  \"avoid this warning.\", FutureWarning)\n"
     ]
    },
    {
     "name": "stdout",
     "output_type": "stream",
     "text": [
      "Logistic Regression accuracy: 0.5790251107828656\n",
      "SVM accuracy: 0.6587887740029542\n"
     ]
    }
   ],
   "source": [
    "X_train, X_test, y_train, y_test = train_test_split(X_num, y_num, random_state=0)\n",
    "\n",
    "clf_lr = LogisticRegression().fit(X_train, y_train)\n",
    "acc_lr = clf_lr.score(X_test, y_test)\n",
    "print('Logistic Regression accuracy: {}'.format(acc_lr))\n",
    "\n",
    "clf_svm = svm.SVC().fit(X_train, y_train)\n",
    "acc_svm = clf_svm.score(X_test, y_test)\n",
    "print('SVM accuracy: {}'.format(acc_svm))"
   ]
  },
  {
   "cell_type": "markdown",
   "metadata": {},
   "source": [
    "    我們可以發現準確率比起之前所用的方式下降了許多，這表示這些特點並不能幫助我們有效的預測好評率與差評率，這才會導致我們無法有效達成目標。\n",
    "    \n",
    "### In-depth study on user behaviour\n",
    "    最後，我們再來嘗試個別用戶的行為分析，藉由groupby的方式將資料重構，顯現出每一個用戶的評分統計資料，以幫助我們利用之前的統計資料預測該用戶接下來的可能評分。"
   ]
  },
  {
   "cell_type": "code",
   "execution_count": 10,
   "metadata": {},
   "outputs": [
    {
     "name": "stdout",
     "output_type": "stream",
     "text": [
      "                                                       Score count  Score mean\n",
      "UserId         ProfileName                                                    \n",
      "A3OXHLG6DIBRW8 C. F. Hill \"CFH\"                                448    4.535714\n",
      "A1YUL9PCJR3JTY O. Brown \"Ms. O. Khannah-Brown\"                 421    4.494062\n",
      "AY12DBB0U420B  Gary Peterson                                   389    4.647815\n",
      "A281NPSIMI1C2R Rebecca of Amazon \"The Rebecca Review\"          365    4.841096\n",
      "A1Z54EM24Y40LL c2                                              256    4.453125\n",
      "A1TMAVN4CEM8U8 Gunner                                          204    4.833333\n",
      "A2MUGFV2TDQ47K Lynrie \"Oh HELL no\"                             201    3.751244\n",
      "A3TVZM3ZIXG8YW christopher hayes                               199    1.000000\n",
      "A3PJZ8TU8FDQ1K Jared Castle                                    178    4.601124\n",
      "AQQLWCMRNDFGI  Steven A. Peterson                              176    3.954545\n"
     ]
    }
   ],
   "source": [
    "df_user = odf.groupby(['UserId', 'ProfileName']).agg({'Score':['count', 'mean']})\n",
    "df_user.columns = df_user.columns.get_level_values(1)\n",
    "df_user.columns = ['Score count', 'Score mean']\n",
    "df_user = df_user.sort_values(by = 'Score count', ascending = False)\n",
    "print(df_user.head(10))"
   ]
  },
  {
   "cell_type": "markdown",
   "metadata": {},
   "source": [
    "    接著，將第一位用戶的資料繪成圖表，以觀察該用戶的評分分佈："
   ]
  },
  {
   "cell_type": "code",
   "execution_count": 11,
   "metadata": {},
   "outputs": [
    {
     "data": {
      "image/png": "[encoded data removed]",
      "text/plain": [
       "<matplotlib.figure.Figure at 0x1a2785da20>"
      ]
     },
     "metadata": {},
     "output_type": "display_data"
    }
   ],
   "source": [
    "def plot_user(UserId):\n",
    "    df_1user = odf[odf['UserId'] == UserId]['Score']\n",
    "    df_1user_plot = df_1user.value_counts(sort=False)\n",
    "    ax = df_1user_plot.plot(kind = 'bar', figsize = (15,10), title = 'Score distribution of user {} review'.format(odf[odf['UserId'] == UserId]['ProfileName'].iloc[0]))\n",
    "\n",
    "plot_user('A3OXHLG6DIBRW8')\n"
   ]
  },
  {
   "cell_type": "markdown",
   "metadata": {},
   "source": [
    "    我們可以發現該用戶的評分普遍偏高，但這並不能代表所有人都像他一樣什麼都不挑。\n",
    "    因此我們可以設一個條件，取一個評分較合理，且有好有壞的用戶（condition : Score mean < 3.5）"
   ]
  },
  {
   "cell_type": "code",
   "execution_count": 12,
   "metadata": {},
   "outputs": [
    {
     "name": "stdout",
     "output_type": "stream",
     "text": [
      "                                Score count  Score mean\n",
      "UserId         ProfileName                             \n",
      "A35R32TA60XD57 M. Torma                 141    3.460993\n",
      "A2M9D9BDHONV3Y A. Bennett               115    3.269565\n",
      "A2TN9C5E4A0I3F Jimmy                    110    2.727273\n",
      "A2XNJJ9TF70P4J Angie                     85    2.976471\n",
      "AJB5P7GVR0MT8  Harry the Horse           70    3.257143\n"
     ]
    }
   ],
   "source": [
    "print(df_user[(df_user['Score mean']<3.5) & (df_user['Score mean']>2.5)].head())"
   ]
  },
  {
   "cell_type": "code",
   "execution_count": 23,
   "metadata": {},
   "outputs": [
    {
     "data": {
      "image/png": "[encoded data removed]",
      "text/plain": [
       "<matplotlib.figure.Figure at 0x1a30101860>"
      ]
     },
     "metadata": {},
     "output_type": "display_data"
    }
   ],
   "source": [
    "plot_user('A2M9D9BDHONV3Y')"
   ]
  },
  {
   "cell_type": "markdown",
   "metadata": {},
   "source": [
    "    選定完符合我們條件的用戶後，將該用戶的評論取出，並藉由該評論分析，他在各不同評分中所用的字詞頻率與數量："
   ]
  },
  {
   "cell_type": "code",
   "execution_count": 13,
   "metadata": {},
   "outputs": [
    {
     "name": "stdout",
     "output_type": "stream",
     "text": [
      "score 1 reviews most popular 2-gram / 3-gram:\n",
      "   Count  Occur %                   Phrase\n",
      "0   31.0  119.23%               (..., ...)\n",
      "1   17.0   65.38%          (..., ..., ...)\n",
      "2   11.0   42.31%             (never, buy)\n",
      "3    9.0   34.62%           (buy, product)\n",
      "4    8.0   30.77%    (never, buy, product)\n",
      "5    8.0   30.77%  (monosodium, glutamate)\n",
      "6    7.0   26.92%            (decide, try)\n",
      "7    7.0   26.92%         (dry, tasteless)\n",
      "8    7.0   26.92%          (picture, look)\n",
      "score 2 reviews most popular 2-gram / 3-gram:\n",
      "    Count Occur %                Phrase\n",
      "0     8.0  47.06%         (sauce, ruin)\n",
      "1     8.0  47.06%         (ruin, whole)\n",
      "2     8.0  47.06%  (sauce, ruin, whole)\n",
      "3     6.0  35.29%            (n't, buy)\n",
      "4     6.0  35.29%       (product, ever)\n",
      "5     5.0  29.41%     (n't, get, wrong)\n",
      "6     5.0  29.41%          (..., .give)\n",
      "7     5.0  29.41%           (try, like)\n",
      "8     5.0  29.41%          (.give, try)\n",
      "9     5.0  29.41%    (.give, try, like)\n",
      "10    5.0  29.41%     (buy, particular)\n",
      "11    5.0  29.41%     (..., .give, try)\n",
      "12    5.0  29.41%          (get, wrong)\n",
      "13    5.0  29.41%            (n't, get)\n",
      "14    5.0  29.41%         (taste, like)\n",
      "score 3 reviews most popular 2-gram / 3-gram:\n",
      "   Count Occur %         Phrase\n",
      "0    7.0   50.0%     (..., ...)\n",
      "1    4.0  28.57%   (whole, lot)\n",
      "2    4.0  28.57%  (taste, like)\n",
      "score 4 reviews most popular 2-gram / 3-gram:\n",
      "   Count Occur %               Phrase\n",
      "0    6.0   37.5%  (highly, recommend)\n",
      "1    5.0  31.25%         (side, dish)\n",
      "2    4.0   25.0%       (potato, chip)\n",
      "score 5 reviews most popular 2-gram / 3-gram:\n",
      "   Count Occur %               Phrase\n",
      "0   18.0  42.86%  (highly, recommend)\n"
     ]
    }
   ],
   "source": [
    "def get_token_ngram(score, benchmark, userid='all'):\n",
    "\n",
    "    if userid != 'all':\n",
    "        df = odf[(odf['UserId'] == userid) & (odf['Score'] == score)]['Text']\n",
    "    else:\n",
    "        df = odf[odf['Score'] == score]['Text']\n",
    "        \n",
    "    count = len(df)\n",
    "    total_text = ' '.join(df)\n",
    "    total_text = total_text.lower()\n",
    "    stop = set(stopwords.words('english'))\n",
    "    total_text = nltk.word_tokenize(total_text)\n",
    "    total_text = [word for word in total_text if word not in stop and len(word) >= 3]\n",
    "    lemmatizer = WordNetLemmatizer()\n",
    "    total_text = [lemmatizer.lemmatize(w,'v') for w in total_text]\n",
    "    bigrams = ngrams(total_text,2)\n",
    "    trigrams = ngrams(total_text, 3)\n",
    "\n",
    "    # look at 2-gram and 3-gram together\n",
    "    combine = chain(bigrams, trigrams)\n",
    "    text = nltk.Text(combine)\n",
    "    fdist = nltk.FreqDist(text)\n",
    "    \n",
    "    # return only phrase occurs more than benchmark of his reviews\n",
    "    return sorted([(w,fdist[w],str(round(fdist[w]/count*100,2))+'%') for w in set(text) if fdist[w] >= count*benchmark], key=lambda x: -x[1])\n",
    "\n",
    "# score 1-5 reviews with this user\n",
    "index = ['Phrase', 'Count', 'Occur %']\n",
    "\n",
    "for j in range(1,6):\n",
    "    test = pd.DataFrame()\n",
    "    d = get_token_ngram(j, 0.25, 'A2M9D9BDHONV3Y')\n",
    "    print('score {} reviews most popular 2-gram / 3-gram:'.format(j))\n",
    "    for i in d:\n",
    "        test = test.append(pd.Series(i, index = index), ignore_index = True)\n",
    "    test = test.sort_values('Count', ascending=False)\n",
    "    print(test)"
   ]
  },
  {
   "cell_type": "markdown",
   "metadata": {},
   "source": [
    "    由以上結果，我們可以發現該用戶在2分的評論中喜歡用'give it a try'的片語，而5分的評論中喜歡用'highly recommend'這樣的片語。\n",
    "    接著我們試著由分析該位用戶所得知結果推論到所有用戶："
   ]
  },
  {
   "cell_type": "code",
   "execution_count": 14,
   "metadata": {},
   "outputs": [
    {
     "name": "stdout",
     "output_type": "stream",
     "text": [
      "score 1 reviews most popular 2-gram / 3-gram:\n",
      "    Count Occur %          Phrase\n",
      "0  5536.0  10.59%   (taste, like)\n",
      "1  2316.0   4.43%  (waste, money)\n",
      "2  2175.0   4.16%    (could, n't)\n",
      "3  2111.0   4.04%     (n't, even)\n",
      "4  1809.0   3.46%     (n't, know)\n",
      "5  1794.0   3.43%    (would, n't)\n",
      "6  1644.0   3.15%      (n't, buy)\n",
      "score 2 reviews most popular 2-gram / 3-gram:\n",
      "    Count Occur %          Phrase\n",
      "0  3161.0  10.62%   (taste, like)\n",
      "1  1362.0   4.58%     (n't, like)\n",
      "2  1304.0   4.38%    (would, n't)\n",
      "3  1086.0   3.65%  (think, would)\n",
      "4  1064.0   3.57%      (n't, buy)\n",
      "5  1010.0   3.39%     (n't, know)\n",
      "6   996.0   3.35%    (n't, taste)\n",
      "7   945.0   3.17%    (could, n't)\n",
      "8   910.0   3.06%   (taste, good)\n",
      "score 3 reviews most popular 2-gram / 3-gram:\n",
      "    Count Occur %          Phrase\n",
      "0  3237.0   7.59%   (taste, like)\n",
      "1  1632.0   3.83%    (would, n't)\n",
      "2  1612.0   3.78%     (n't, like)\n",
      "3  1551.0   3.64%   (taste, good)\n",
      "4  1463.0   3.43%   (href=, http)\n",
      "5  1406.0    3.3%     (n't, know)\n",
      "6  1295.0   3.04%  (think, would)\n",
      "score 4 reviews most popular 2-gram / 3-gram:\n",
      "    Count Occur %          Phrase\n",
      "0  4353.0    5.4%   (taste, like)\n",
      "1  3203.0   3.97%   (taste, good)\n",
      "2  3011.0   3.73%   (href=, http)\n",
      "3  2819.0    3.5%  (pretty, good)\n",
      "4  2742.0    3.4%  (really, like)\n",
      "5  2427.0   3.01%     (n't, like)\n",
      "score 5 reviews most popular 2-gram / 3-gram:\n",
      "     Count Occur %               Phrase\n",
      "0  17499.0   4.82%  (highly, recommend)\n",
      "1  14450.0   3.98%        (taste, like)\n",
      "2  11762.0   3.24%     (grocery, store)\n",
      "3  11471.0   3.16%       (taste, great)\n"
     ]
    }
   ],
   "source": [
    "# score 1-5 reviews with all users\n",
    "index = ['Phrase', 'Count', 'Occur %']\n",
    "\n",
    "for j in range(1,6):\n",
    "    test = pd.DataFrame()\n",
    "    # easier benchmark since we have many different users here, thus different phrase\n",
    "    d = get_token_ngram(j, 0.03)\n",
    "    print('score {} reviews most popular 2-gram / 3-gram:'.format(j))\n",
    "    for i in d:\n",
    "        test = test.append(pd.Series(i, index = index), ignore_index = True)\n",
    "    test = test.sort_values('Count', ascending=False)\n",
    "    print(test)"
   ]
  },
  {
   "cell_type": "markdown",
   "metadata": {},
   "source": [
    "    我們可以發現，不同用戶所喜歡使用的片語有很大的不同，這表示如果以片語來分析，並不是太好的作法，因為每個人的評論方式差異太大。\n",
    "    因此，我們調整一下，改為利用單詞分析："
   ]
  },
  {
   "cell_type": "code",
   "execution_count": 15,
   "metadata": {},
   "outputs": [],
   "source": [
    "def get_token_adj(score, benchmark, userid='all'):\n",
    "    \n",
    "    if userid != 'all':\n",
    "        df = odf[(odf['UserId'] == userid) & (odf['Score'] == score)]['Text']\n",
    "    else:\n",
    "        df = odf[odf['Score'] == score]['Text']\n",
    "        \n",
    "    count = len(df)\n",
    "    total_text = ' '.join(df)\n",
    "    total_text = total_text.lower()\n",
    "    stop = set(stopwords.words('english'))\n",
    "    total_text = nltk.word_tokenize(total_text)\n",
    "    total_text = [word for word in total_text if word not in stop and len(word) >= 3]\n",
    "    lemmatizer = WordNetLemmatizer()\n",
    "    total_text = [lemmatizer.lemmatize(w,'a') for w in total_text]\n",
    "    # get adjective only\n",
    "    total_text = [word for word, form in nltk.pos_tag(total_text) if form == 'JJ']\n",
    "    \n",
    "    text = nltk.Text(total_text)\n",
    "    fdist = nltk.FreqDist(text)\n",
    "    \n",
    "    # return only phrase occurs more than benchmark of his reviews\n",
    "    return sorted([(w,fdist[w],str(round(fdist[w]/count*100,2))+'%') for w in set(text) if fdist[w] >= count*benchmark], key=lambda x: -x[1])"
   ]
  },
  {
   "cell_type": "code",
   "execution_count": 16,
   "metadata": {},
   "outputs": [
    {
     "name": "stdout",
     "output_type": "stream",
     "text": [
      "score 1 reviews most popular adjectives word:\n",
      "   Count Occur %     Phrase\n",
      "0   13.0   50.0%        dry\n",
      "1   12.0  46.15%     cheese\n",
      "2   10.0  38.46%        bad\n",
      "3   10.0  38.46%     little\n",
      "4    8.0  30.77%       hard\n",
      "5    8.0  30.77%  delicious\n",
      "6    8.0  30.77%      tasty\n",
      "7    8.0  30.77%  expensive\n",
      "8    7.0  26.92%       poor\n",
      "9    7.0  26.92%      bread\n",
      "score 2 reviews most popular adjectives word:\n",
      "   Count Occur %      Phrase\n",
      "0   10.0  58.82%       whole\n",
      "1    8.0  47.06%      cheese\n",
      "2    6.0  35.29%       wrong\n",
      "3    6.0  35.29%   delicious\n",
      "4    6.0  35.29%       awful\n",
      "5    5.0  29.41%  particular\n",
      "6    5.0  29.41%        good\n",
      "7    5.0  29.41%       .give\n",
      "score 3 reviews most popular adjectives word:\n",
      "   Count Occur %        Phrase\n",
      "0    9.0  64.29%         whole\n",
      "1    5.0  35.71%          high\n",
      "2    4.0  28.57%         first\n",
      "3    4.0  28.57%          good\n",
      "4    4.0  28.57%  disappointed\n",
      "5    4.0  28.57%         great\n",
      "score 4 reviews most popular adjectives word:\n",
      "   Count Occur %     Phrase\n",
      "0    9.0  56.25%      great\n",
      "1    8.0   50.0%  delicious\n",
      "2    5.0  31.25%  recommend\n",
      "3    5.0  31.25%     little\n",
      "4    4.0   25.0%       much\n",
      "5    4.0   25.0%   multiple\n",
      "6    4.0   25.0%       good\n",
      "7    4.0   25.0%       high\n",
      "8    4.0   25.0%    regular\n",
      "9    4.0   25.0%       sure\n",
      "score 5 reviews most popular adjectives word:\n",
      "   Count Occur %     Phrase\n",
      "0   31.0  73.81%  delicious\n",
      "1   18.0  42.86%      great\n",
      "2   13.0  30.95%      first\n",
      "3   13.0  30.95%       high\n",
      "4   12.0  28.57%      fresh\n"
     ]
    }
   ],
   "source": [
    "# score 1-5 reviews with this user\n",
    "index = ['Phrase', 'Count', 'Occur %']\n",
    "\n",
    "for j in range(1,6):\n",
    "    test = pd.DataFrame()\n",
    "    d = get_token_adj(j, 0.25, 'A2M9D9BDHONV3Y')\n",
    "    print('score {} reviews most popular adjectives word:'.format(j))\n",
    "    for i in d:\n",
    "        test = test.append(pd.Series(i, index = index), ignore_index = True)\n",
    "    test = test.sort_values('Count', ascending=False)\n",
    "    print(test)"
   ]
  },
  {
   "cell_type": "code",
   "execution_count": 17,
   "metadata": {},
   "outputs": [
    {
     "name": "stdout",
     "output_type": "stream",
     "text": [
      "score 1 reviews most popular adjectives word:\n",
      "      Count Occur %        Phrase\n",
      "0   16185.0  30.97%          good\n",
      "1   10777.0  20.62%           bad\n",
      "2    4977.0   9.52%         great\n",
      "3    4844.0   9.27%          much\n",
      "4    4786.0   9.16%        little\n",
      "5    4774.0   9.13%           old\n",
      "6    4198.0   8.03%         first\n",
      "7    3956.0   7.57%           new\n",
      "8    3789.0   7.25%     different\n",
      "9    3717.0   7.11%          many\n",
      "10   3537.0   6.77%         small\n",
      "11   3296.0   6.31%          real\n",
      "12   3000.0   5.74%  disappointed\n",
      "13   2884.0   5.52%          sure\n",
      "14   2831.0   5.42%          free\n",
      "15   2823.0    5.4%          diet\n",
      "16   2761.0   5.28%          high\n",
      "17   2658.0   5.09%          last\n",
      "score 2 reviews most popular adjectives word:\n",
      "      Count Occur %        Phrase\n",
      "0   13519.0  45.41%          good\n",
      "1    4251.0  14.28%          much\n",
      "2    4169.0   14.0%           bad\n",
      "3    3909.0  13.13%         great\n",
      "4    3691.0   12.4%        little\n",
      "5    2847.0   9.56%         small\n",
      "6    2323.0    7.8%         first\n",
      "7    2292.0    7.7%        strong\n",
      "8    2239.0   7.52%     different\n",
      "9    2163.0   7.27%         sweet\n",
      "10   2067.0   6.94%          many\n",
      "11   2050.0   6.89%           old\n",
      "12   2006.0   6.74%           big\n",
      "13   1958.0   6.58%          hard\n",
      "14   1923.0   6.46%           hot\n",
      "15   1906.0    6.4%  disappointed\n",
      "16   1902.0   6.39%          sure\n",
      "17   1893.0   6.36%          high\n",
      "18   1766.0   5.93%         green\n",
      "19   1703.0   5.72%         whole\n",
      "20   1643.0   5.52%       healthy\n",
      "21   1608.0    5.4%           new\n",
      "22   1595.0   5.36%          weak\n",
      "23   1576.0   5.29%       organic\n",
      "24   1519.0    5.1%          real\n",
      "25   1495.0   5.02%       regular\n",
      "score 3 reviews most popular adjectives word:\n",
      "      Count Occur %     Phrase\n",
      "0   25082.0  58.82%       good\n",
      "1    7648.0  17.94%      great\n",
      "2    7367.0  17.28%     little\n",
      "3    6927.0  16.25%       much\n",
      "4    5473.0  12.84%        bad\n",
      "5    4744.0  11.13%     strong\n",
      "6    4679.0  10.97%      small\n",
      "7    4009.0    9.4%      sweet\n",
      "8    3464.0   8.12%      first\n",
      "9    3432.0   8.05%  different\n",
      "10   3288.0   7.71%       high\n",
      "11   3108.0   7.29%       nice\n",
      "12   3102.0   7.27%       sure\n",
      "13   3034.0   7.12%        big\n",
      "14   2918.0   6.84%        hot\n",
      "15   2904.0   6.81%       many\n",
      "16   2761.0   6.48%      green\n",
      "17   2664.0   6.25%    healthy\n",
      "18   2608.0   6.12%    organic\n",
      "19   2596.0   6.09%       hard\n",
      "20   2567.0   6.02%    regular\n",
      "21   2518.0   5.91%        old\n",
      "22   2516.0    5.9%      large\n",
      "23   2245.0   5.27%      whole\n",
      "24   2237.0   5.25%    natural\n",
      "25   2162.0   5.07%        dry\n",
      "score 4 reviews most popular adjectives word:\n",
      "      Count Occur %     Phrase\n",
      "0   52527.0  65.13%       good\n",
      "1   22466.0  27.85%      great\n",
      "2   16209.0   20.1%     little\n",
      "3   10517.0  13.04%       much\n",
      "4    9279.0   11.5%       nice\n",
      "5    8529.0  10.57%     strong\n",
      "6    8370.0  10.38%      small\n",
      "7    8159.0  10.12%      sweet\n",
      "8    6489.0   8.05%    healthy\n",
      "9    6151.0   7.63%       easy\n",
      "10   5969.0    7.4%        hot\n",
      "11   5961.0   7.39%       high\n",
      "12   5734.0   7.11%       many\n",
      "13   5675.0   7.04%        bad\n",
      "14   5673.0   7.03%        big\n",
      "15   5479.0   6.79%  different\n",
      "16   5424.0   6.72%      first\n",
      "17   5297.0   6.57%    organic\n",
      "18   5041.0   6.25%       sure\n",
      "19   5032.0   6.24%       free\n",
      "20   4835.0   5.99%      green\n",
      "21   4761.0    5.9%    regular\n",
      "22   4653.0   5.77%      large\n",
      "23   4572.0   5.67%       hard\n",
      "24   4497.0   5.58%        old\n",
      "25   4471.0   5.54%      tasty\n",
      "26   4462.0   5.53%      fresh\n",
      "27   4402.0   5.46%        low\n",
      "28   4324.0   5.36%      whole\n",
      "29   4322.0   5.36%  delicious\n",
      "30   4258.0   5.28%    natural\n",
      "score 5 reviews most popular adjectives word:\n",
      "       Count Occur %     Phrase\n",
      "0   151087.0  41.61%       good\n",
      "1   127588.0  35.14%      great\n",
      "2    45682.0  12.58%     little\n",
      "3    32748.0   9.02%       much\n",
      "4    32677.0    9.0%  delicious\n",
      "5    30145.0    8.3%    healthy\n",
      "6    27700.0   7.63%       many\n",
      "7    26152.0    7.2%       free\n",
      "8    25824.0   7.11%       easy\n",
      "9    25240.0   6.95%   favorite\n",
      "10   24891.0   6.85%      small\n",
      "11   24737.0   6.81%        hot\n",
      "12   23757.0   6.54%      sweet\n",
      "13   23219.0   6.39%       nice\n",
      "14   21379.0   5.89%        old\n",
      "15   21155.0   5.83%      happy\n",
      "16   20400.0   5.62%      fresh\n",
      "17   20259.0   5.58%     strong\n",
      "18   19746.0   5.44%    organic\n",
      "19   19712.0   5.43%       high\n",
      "20   19340.0   5.33%  different\n",
      "21   18859.0   5.19%      first\n",
      "22   18733.0   5.16%      local\n",
      "23   18620.0   5.13%    perfect\n",
      "24   18310.0   5.04%        big\n"
     ]
    }
   ],
   "source": [
    "# score 1-5 reviews with all users\n",
    "index = ['Phrase', 'Count', 'Occur %']\n",
    "\n",
    "for j in range(1,6):\n",
    "    test = pd.DataFrame()\n",
    "    d = get_token_adj(j, 0.05)\n",
    "    print('score {} reviews most popular adjectives word:'.format(j))\n",
    "    for i in d:\n",
    "        test = test.append(pd.Series(i, index = index), ignore_index = True)\n",
    "    test = test.sort_values('Count', ascending=False)\n",
    "    print(test)"
   ]
  },
  {
   "cell_type": "markdown",
   "metadata": {},
   "source": [
    "    我們可以看出相對於片語來說，字詞對我們的評論就比較有用了，例如從個人用戶評論分析中，我們可以清楚地得知該用戶討厭乾硬的食物、討厭起司等等 ; 而從所有評論中，我們可以淘汰掉一些在任何分數的評論中都常出現的字（代表該字對於我們好評與差評率的預測幾乎沒有幫助），便能得出較有影響力的單詞，便可以做出更精準的預測。\n",
    "    \n",
    "    在這次的作業中，我花了許多時間學習和複習一些之前學習過的知識（因為之前有自學過machine learning的課程），才發現有許多知識是沒有學習好的，另外，也因為之前所使用的資料都是課程裡面整理好的，甚至老師還會教怎麼處理這些資料，而這次的作業則是下載完資料檔後，一切重頭做起，包括我要利用這些資料預測什麼、如何分析與觀察這些資料、當結果與預期不同時又要如何調整等等，這些都是在做這次作業時，我學到的東西。\n",
    "    \n",
    "# 以上是HW4-6，謝謝老師、助教的評分、修改以及評論，謝謝！"
   ]
  },
  {
   "cell_type": "code",
   "execution_count": null,
   "metadata": {},
   "outputs": [],
   "source": []
  }
 ],
 "metadata": {
  "kernelspec": {
   "display_name": "Python 3",
   "language": "python",
   "name": "python3"
  },
  "language_info": {
   "codemirror_mode": {
    "name": "ipython",
    "version": 3
   },
   "file_extension": ".py",
   "mimetype": "text/x-python",
   "name": "python",
   "nbconvert_exporter": "python",
   "pygments_lexer": "ipython3",
   "version": "3.6.4"
  }
 },
 "nbformat": 4,
 "nbformat_minor": 2
}
