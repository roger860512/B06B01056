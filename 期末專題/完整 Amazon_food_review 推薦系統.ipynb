{
 "cells": [
  {
   "cell_type": "markdown",
   "metadata": {},
   "source": [
    "## 目標\n",
    "此次的推薦系統，我們所要解決的問題是幫助使用者選擇產品，給予使用者建議與推薦以刺激銷售量，並提升利益。\n",
    "\n",
    "    首先，我使用的資料集是我在HW4-6有使用過的資料集-- Amazon fine food review 。\n",
    "    接著，此次的推薦系統是以用戶評分為基礎來作出預測與推薦。我會假設使用者傾向於喜歡預測評分為4分與5分的產品，以這些作為推薦系統的候選產品。\n",
    "    最後，我會使用許多演算法以訓練資料來達成目的，達成給每個用戶對每個產品的評分預測，並計算其準確率。"
   ]
  },
  {
   "cell_type": "markdown",
   "metadata": {},
   "source": [
    "### 資料集載入與資料預處理\n",
    "\n",
    "    1. data_clean() & data_clean_sum(). 定義這兩個方法，幫助確認資料是否為正確的。\n",
    "    2. data(). 定義此方法，包含以下資料處理功能：\n",
    "        A. 讀取資料集\n",
    "        B. 利用to_datetime將時間轉換為datetime\n",
    "        C. factorizr 函數可以將 Series 中的標稱型數據映射成為一組數字（相同的數據映射相同的數字），並返回一個 tuple\n",
    "        D. MinMaxScaler(). 將屬性縮放到一個「指定」的最大和最小值，這樣能使方差非常小的屬性增強其穩定性，同時也能維持稀疏矩陣中為0的項目。\n",
    "        E. 以上方法是正則化的一種方法，使用後，便可以開始將資料集分為訓練資料與測試資料，以助於製作混淆矩陣來判斷演算法成效。\n",
    "        F. 最後，將處理好的資料放入table中，並輸出其大小。"
   ]
  },
  {
   "cell_type": "code",
   "execution_count": 2,
   "metadata": {},
   "outputs": [
    {
     "name": "stdout",
     "output_type": "stream",
     "text": [
      "loading data...\n"
     ]
    },
    {
     "name": "stderr",
     "output_type": "stream",
     "text": [
      "/Users/roger/anaconda3/lib/python3.6/site-packages/sklearn/utils/validation.py:595: DataConversionWarning: Data with input dtype int64 was converted to float64 by MinMaxScaler.\n",
      "  warnings.warn(msg, DataConversionWarning)\n",
      "/Users/roger/anaconda3/lib/python3.6/site-packages/sklearn/utils/validation.py:595: DataConversionWarning: Data with input dtype int64 was converted to float64 by MinMaxScaler.\n",
      "  warnings.warn(msg, DataConversionWarning)\n",
      "/Users/roger/anaconda3/lib/python3.6/site-packages/sklearn/utils/validation.py:595: DataConversionWarning: Data with input dtype int64 was converted to float64 by MinMaxScaler.\n",
      "  warnings.warn(msg, DataConversionWarning)\n"
     ]
    },
    {
     "name": "stdout",
     "output_type": "stream",
     "text": [
      "the table's shape is:\n",
      "(3666, 1102)\n"
     ]
    }
   ],
   "source": [
    "# import libraries for defining methods and processing data\n",
    "import numpy as np\n",
    "import pandas as pd\n",
    "from sklearn.preprocessing import MinMaxScaler\n",
    "from sklearn.model_selection import train_test_split\n",
    "\n",
    "def data_clean(df, feature, m):\n",
    "    count = df[feature].value_counts()\n",
    "    df = df[df[feature].isin(count[count > m].index)]\n",
    "    return df\n",
    "def data_clean_sum(df,features,m):\n",
    "    fil = df.ProductId.value_counts()\n",
    "    fil2 = df.UserId.value_counts()\n",
    "    df['#Proudcts'] = df.ProductId.apply(lambda x: fil[x])\n",
    "    df['#Users'] = df.UserId.apply(lambda x: fil2[x])\n",
    "    while (df.ProductId.value_counts(ascending=True)[0]) < m or  (df.UserId.value_counts(ascending=True)[0] < m):\n",
    "        df = data_clean(df,features[0],m)\n",
    "        df = data_clean(df,features[1],m)\n",
    "    return df\n",
    "\n",
    "\n",
    "\n",
    "\n",
    "def data():\n",
    "    print('loading data...')\n",
    "    df = pd.read_csv('/Users/roger/Desktop/Workspace/amazon-fine-food-reviews/Reviews.tsv')\n",
    "    df['datetime'] = pd.to_datetime(df.Time, unit='s')\n",
    "    raw_data = data_clean_sum(df, ['ProductId', 'UserId'], 10)\n",
    "    # find X,and y\n",
    "    raw_data['uid'] = pd.factorize(raw_data['UserId'])[0]\n",
    "    raw_data['pid'] = pd.factorize(raw_data['ProductId'])[0]\n",
    "    sc = MinMaxScaler()\n",
    "    raw_data['time']=sc.fit_transform(raw_data['Time'].values.reshape(-1,1))\n",
    "    raw_data['nuser']=sc.fit_transform(raw_data['#Users'].values.reshape(-1,1))\n",
    "    raw_data['nproduct']=sc.fit_transform(raw_data['#Proudcts'].values.reshape(-1,1))\n",
    "    # Sepreate the features into three groups\n",
    "    X1 = raw_data.loc[:,['uid','pid']]\n",
    "    X2 = raw_data.loc[:,['uid','pid','time']]\n",
    "    X3 = raw_data.loc[:,['uid','pid','time','nuser','nproduct']]\n",
    "    y = raw_data.Score\n",
    "    # train_test split\n",
    "    X1_train,X1_test,y_train,y_test = train_test_split(X1,y,test_size=0.3,random_state=2017)\n",
    "    X2_train,X2_test,y_train,y_test = train_test_split(X2,y,test_size=0.3,random_state=2017)\n",
    "    X3_train,X3_test,y_train,y_test = train_test_split(X3,y,test_size=0.3,random_state=2017)\n",
    "    train = np.array(X1_train.join(y_train))\n",
    "    test = np.array(X1_test.join(y_test))\n",
    "    # got the productId to pid index\n",
    "    pid2PID = raw_data.ProductId.unique()\n",
    "\n",
    "    data_mixed = X1.join(y)\n",
    "    total_p = data_mixed['pid'].unique().shape[0]\n",
    "    total_u = data_mixed['uid'].unique().shape[0]\n",
    "    # make the user-item table\n",
    "    table = np.zeros([total_u,total_p])\n",
    "    z = np.array(data_mixed)\n",
    "    for line in z:\n",
    "        u,p,s = line\n",
    "        if table[u][p] < s:\n",
    "            table[u][p] = s #if some one score a single thing several times\n",
    "    print('the table\\'s shape is:' )\n",
    "    print(table.shape)\n",
    "    return z, total_u,total_p,pid2PID,train,test,table,raw_data\n",
    "\n",
    "z, total_u,total_p,pid2PID,train,test,table,raw_data = data()"
   ]
  },
  {
   "cell_type": "markdown",
   "metadata": {},
   "source": [
    "### 評估\n",
    "    接著，我要利用均方誤差（MSE）與混淆矩陣來評估資料訓練的準確度，並讓損失函數最小化，也就是讓預測值與實際值的差異值最小。\n",
    "首先，利用  mean_squared_error() 方法定義計算MSE的方法 caculate_mse()，計算完後，我們將其轉換為圖表，以方便我們觀察結果：\n",
    "\n",
    "    函數解釋：\n",
    "        A. 利用 append() 函數將分割後的資料分別丟入不同矩陣中。\n",
    "        B. mean_squared_error(). 以上解釋過，並將需要訓練完與測試的資料丟入其中，以作計算。\n",
    "        C. 利用 matplotlib.pyplot library 將計算完的數據製作成圖表。"
   ]
  },
  {
   "cell_type": "code",
   "execution_count": 3,
   "metadata": {},
   "outputs": [],
   "source": [
    "from sklearn.metrics import mean_squared_error\n",
    "import matplotlib.pyplot as plt\n",
    "def caculate_mse(x):\n",
    "    MSE1=[]\n",
    "    MSE2=[]\n",
    "    for line in train:\n",
    "        u,p,s = line\n",
    "        MSE1.append(s)\n",
    "        MSE2.append(x[u,p])\n",
    "    MSE_in_sample = mean_squared_error(MSE1,MSE2)\n",
    "    MSE3=[]\n",
    "    MSE4 = []\n",
    "    for line in test:\n",
    "        u,p,s = line\n",
    "        MSE3.append(s)\n",
    "        MSE4.append(x[u,p])\n",
    "    MSE_out_sample = mean_squared_error(MSE3,MSE4)\n",
    "    print('the in sample MSE = {} \\nthe out sample MSE = {}'.format(MSE_in_sample,MSE_out_sample))\n",
    "    return MSE_in_sample,MSE_out_sample\n",
    "\n",
    "\n",
    "def draw_mse(method,maxIter):\n",
    "    import time\n",
    "    c = []\n",
    "    d = []\n",
    "    timetime = []\n",
    "    for i in [1,2,5,7,10,20,50,70,100]:\n",
    "        tic = time.time()\n",
    "        data = method(factors=i,maxIter=maxIter)\n",
    "        a,b = caculate_mse(data)\n",
    "        c.append(a)\n",
    "        d.append(b)\n",
    "        toc = time.time()\n",
    "        timetime.append(toc-tic)\n",
    "    aa = [1, 2, 5, 7, 10, 20, 50, 70, 100]\n",
    "    for i in range(len(timetime)):\n",
    "\n",
    "        print('latent factors = {}, time = {}'.format(aa[i],timetime[i]))\n",
    "    plt.figure()\n",
    "    plt.plot(aa,c,label = 'in_sample_MSE')\n",
    "    plt.plot(aa,d,label = 'out_sample_MSE')\n",
    "    plt.xticks([1,2,5,7,10,20,50,70,100])\n",
    "    plt.legend()\n",
    "    plt.show()\n",
    "    return 0"
   ]
  },
  {
   "cell_type": "markdown",
   "metadata": {},
   "source": [
    "接著，定義製作混淆矩陣（confusion matrix）的方法，以此觀察訓練結果：\n",
    "    \n",
    "    函數解釋：\n",
    "    A. itertools library 是python 中一種迭代生成器，幫助提高開發體驗和執行效率，返回迭代物件。\n",
    "    B. 以 matplotlib.pyplot library 幫助繪製 混淆矩陣\n",
    "    C. 混淆矩陣功能以文檔解釋。"
   ]
  },
  {
   "cell_type": "code",
   "execution_count": 16,
   "metadata": {},
   "outputs": [],
   "source": [
    "import itertools\n",
    "import matplotlib.pyplot as plt\n",
    "from sklearn.metrics import confusion_matrix\n",
    "def plot_confusion_matrix(cm, classes,\n",
    "                          normalize=False,\n",
    "                          title='Confusion matrix',\n",
    "                          cmap=plt.cm.Greens):\n",
    "    \"\"\"\n",
    "    This function prints and plots the confusion matrix.\n",
    "    Normalization can be applied by setting `normalize=True`.\n",
    "    \"\"\"\n",
    "    if normalize:\n",
    "        cm = cm.astype('float') / cm.sum(axis=1)[:, np.newaxis]\n",
    "        print(\"Normalized confusion matrix\")\n",
    "    else:\n",
    "        print('Confusion matrix, without normalization')\n",
    "\n",
    "    print(cm)\n",
    "    plt.imshow(cm, interpolation='nearest', cmap=cmap)\n",
    "    plt.title(title)\n",
    "    plt.colorbar()\n",
    "    tick_marks = np.arange(len(classes))\n",
    "    plt.xticks(tick_marks, classes, rotation=45)\n",
    "    plt.yticks(tick_marks, classes)\n",
    "\n",
    "    fmt = '.2f' if normalize else 'd'\n",
    "    thresh = cm.max() / 2.\n",
    "    for i, j in itertools.product(range(cm.shape[0]), range(cm.shape[1])):\n",
    "        plt.text(j, i, format(cm[i, j], fmt),\n",
    "                 horizontalalignment=\"center\",\n",
    "                 color=\"white\" if cm[i, j] > thresh else \"black\")\n",
    "\n",
    "    plt.tight_layout()\n",
    "    plt.ylabel('True label')\n",
    "    plt.xlabel('Predicted label')\n",
    "\n",
    "\n",
    "\n",
    "def drawcm(y_pred,y_test =test ,title=''):\n",
    "    print('caculating cm..')\n",
    "    y1=[]\n",
    "    y2=[]\n",
    "    for line in y_test:\n",
    "        u,p,s = line\n",
    "        y1.append(s)\n",
    "        y2.append(y_pred[u,p])\n",
    "    temp1 = []\n",
    "    temp2 = []\n",
    "    for i in range(len(y1)):\n",
    "        if np.array(y1)[i] >= 4:\n",
    "            temp1.append(1)\n",
    "        elif np.array(y1)[i] <= 2:\n",
    "            temp1.append(0)\n",
    "        else:\n",
    "            temp1.append(0)\n",
    "        if y2[i] >= 4:\n",
    "            temp2.append(1)\n",
    "        elif y2[i] <= 2:\n",
    "            temp2.append(0)\n",
    "        else:\n",
    "            temp2.append(0)\n",
    "    cm = confusion_matrix(temp1,temp2)\n",
    "    plt.figure()\n",
    "    plot_confusion_matrix(cm, classes=['not','recommand'], normalize=True,\n",
    "                          title=title)\n",
    "    plt.show()"
   ]
  },
  {
   "cell_type": "markdown",
   "metadata": {},
   "source": [
    "### Random Forest Resgressor\n",
    "OK，在定義完以上，我能想到可以先事先定義，並且能幫助維護整個程式碼的整潔度的各種方法後，我們可以先來嘗試用簡單的Random Forest Regressor 建立模型並以此來訓練資料：\n",
    "\n",
    "    函數解釋：\n",
    "    由於接下來較複雜，放至下面以 # 專門解釋。"
   ]
  },
  {
   "cell_type": "code",
   "execution_count": 17,
   "metadata": {},
   "outputs": [
    {
     "name": "stderr",
     "output_type": "stream",
     "text": [
      "/Users/roger/anaconda3/lib/python3.6/site-packages/sklearn/utils/validation.py:595: DataConversionWarning: Data with input dtype int64 was converted to float64 by MinMaxScaler.\n",
      "  warnings.warn(msg, DataConversionWarning)\n",
      "/Users/roger/anaconda3/lib/python3.6/site-packages/sklearn/utils/validation.py:595: DataConversionWarning: Data with input dtype int64 was converted to float64 by MinMaxScaler.\n",
      "  warnings.warn(msg, DataConversionWarning)\n",
      "/Users/roger/anaconda3/lib/python3.6/site-packages/sklearn/utils/validation.py:595: DataConversionWarning: Data with input dtype int64 was converted to float64 by MinMaxScaler.\n",
      "  warnings.warn(msg, DataConversionWarning)\n",
      "/Users/roger/anaconda3/lib/python3.6/site-packages/sklearn/ensemble/forest.py:246: FutureWarning: The default value of n_estimators will change from 10 in version 0.20 to 100 in 0.22.\n",
      "  \"10 in version 0.20 to 100 in 0.22.\", FutureWarning)\n"
     ]
    },
    {
     "name": "stdout",
     "output_type": "stream",
     "text": [
      "train MSE is (0.07158309462068876, 0.3354421671736166), test MSE is 0.3354421671736166\n",
      "accrucy of recommandtion:\n",
      "0.8758677857216869\n",
      "accrucy of not recommandtion:\n",
      "0.9783442130349187\n",
      "Normalized confusion matrix\n",
      "[[0.89 0.11]\n",
      " [0.13 0.87]]\n"
     ]
    },
    {
     "data": {
      "image/png": "[encoded data removed]",
      "text/plain": [
       "<matplotlib.figure.Figure at 0x1a2b913358>"
      ]
     },
     "metadata": {},
     "output_type": "display_data"
    },
    {
     "data": {
      "text/plain": [
       "RandomForestRegressor(bootstrap=True, criterion='mse', max_depth=None,\n",
       "           max_features='auto', max_leaf_nodes=None,\n",
       "           min_impurity_decrease=0.0, min_impurity_split=None,\n",
       "           min_samples_leaf=1, min_samples_split=2,\n",
       "           min_weight_fraction_leaf=0.0, n_estimators=10, n_jobs=None,\n",
       "           oob_score=False, random_state=None, verbose=0, warm_start=False)"
      ]
     },
     "execution_count": 17,
     "metadata": {},
     "output_type": "execute_result"
    }
   ],
   "source": [
    "from sklearn.metrics import *\n",
    "from sklearn.preprocessing import *\n",
    "from sklearn.ensemble import *\n",
    "def rf():\n",
    "    # find X,and y\n",
    "    # factorize(),MinMaxScaler() 函數以上做過解釋，不多重複介紹。\n",
    "    raw_data['uid'] = pd.factorize(raw_data['UserId'])[0]\n",
    "    raw_data['pid'] = pd.factorize(raw_data['ProductId'])[0]\n",
    "    from sklearn.preprocessing import MinMaxScaler\n",
    "    sc = MinMaxScaler()\n",
    "    raw_data['time']=sc.fit_transform(raw_data['Time'].values.reshape(-1,1))\n",
    "    raw_data['nuser']=sc.fit_transform(raw_data['#Users'].values.reshape(-1,1))\n",
    "    raw_data['nproduct']=sc.fit_transform(raw_data['#Proudcts'].values.reshape(-1,1))\n",
    "    \n",
    "    # .loc[] . 將以上處理後的資料存入不同的變數中，以利進行接下來的訓練。\n",
    "    X1 = raw_data.loc[:,['uid','pid']]\n",
    "    X2 = raw_data.loc[:,['uid','pid','time']]\n",
    "    X3 = raw_data.loc[:,['uid','pid','time','nuser','nproduct']]\n",
    "    y = raw_data.Score\n",
    "\n",
    "    # train_test_split() . 分割X為訓練集與測試集，分別將大小定為 0.7與 0.3。\n",
    "    from sklearn.model_selection import train_test_split\n",
    "    X1_train,X1_test,y_train,y_test = train_test_split(X1,y,test_size=0.3,random_state=2017)\n",
    "    X2_train,X2_test,y_train,y_test = train_test_split(X2,y,test_size=0.3,random_state=2017)\n",
    "    X3_train,X3_test,y_train,y_test = train_test_split(X3,y,test_size=0.3,random_state=2017)\n",
    "    \n",
    "    # 以 rfr 模型訓練資料\n",
    "    a=RandomForestRegressor()\n",
    "    a.fit(X3_train,y_train)\n",
    "    y3 = a.predict(X3_test)\n",
    "    sc = MinMaxScaler(feature_range=(1,5))\n",
    "    \n",
    "    # 分別求出訓練集與測試集的方均差，以判斷訓練效果。\n",
    "    c = mean_squared_error(y_train,a.predict(X3_train)), mean_squared_error(y_test,sc.fit_transform(y3.reshape(-1,1)))\n",
    "    b = mean_squared_error(y_test,y3)\n",
    "    print('train MSE is {}, test MSE is {}'.format(c,b))\n",
    "\n",
    "    # 將推薦與不推薦的準確率分別計算出來\n",
    "    c3 = y3>=4\n",
    "    t = y_test>=4\n",
    "    print('accrucy of recommandtion:')\n",
    "    print(accuracy_score(t,c3))\n",
    "    c31 = y3<=1\n",
    "    t1 = y_test<=1\n",
    "    print('accrucy of not recommandtion:')\n",
    "    print(accuracy_score(t1,c31))\n",
    "    \n",
    "    # 創造兩個矩陣用於繪製混淆矩陣，兩矩陣分別用於儲存預測值與測試值\n",
    "    y_pred3 = []\n",
    "    y_test3 = []\n",
    "    for i in range(y3.shape[0]):\n",
    "        if y3[i]>=4:\n",
    "            y_pred3.append(1)\n",
    "        elif y3[i]<4:\n",
    "            y_pred3.append(0)\n",
    "        # else:\n",
    "            # y_pred3.append(1)\n",
    "\n",
    "    for j in range(y3.shape[0]):\n",
    "        if np.array(y_test)[j]>=4:\n",
    "            y_test3.append(1)\n",
    "        elif np.array(y_test)[j]<4:\n",
    "            y_test3.append(0)\n",
    "        # else:\n",
    "            # y_test3.append(1)\n",
    "            \n",
    "    # 將混淆矩陣基本程式碼複製過來後，將繪製來源改為以上創造的兩個矩陣，便可以繪製以此模型訓練後的混淆矩陣。\n",
    "    import itertools\n",
    "    import matplotlib.pyplot as plt\n",
    "    def plot_confusion_matrix(cm, classes,\n",
    "                              normalize=False,\n",
    "                              title='Confusion matrix',\n",
    "                              cmap=plt.cm.Blues):\n",
    "        \"\"\"\n",
    "        This function prints and plots the confusion matrix.\n",
    "        Normalization can be applied by setting `normalize=True`.\n",
    "        \"\"\"\n",
    "        if normalize:\n",
    "            cm = cm.astype('float') / cm.sum(axis=1)[:, np.newaxis]\n",
    "            print(\"Normalized confusion matrix\")\n",
    "        else:\n",
    "            print('Confusion matrix, without normalization')\n",
    "\n",
    "        print(cm)\n",
    "        plt.imshow(cm, interpolation='nearest', cmap=cmap)\n",
    "        plt.title(title)\n",
    "        plt.colorbar()\n",
    "        tick_marks = np.arange(len(classes))\n",
    "        plt.xticks(tick_marks, classes, rotation=45)\n",
    "        plt.yticks(tick_marks, classes)\n",
    "\n",
    "        fmt = '.2f' if normalize else 'd'\n",
    "        thresh = cm.max() / 2.\n",
    "        for i, j in itertools.product(range(cm.shape[0]), range(cm.shape[1])):\n",
    "            plt.text(j, i, format(cm[i, j], fmt),\n",
    "                     horizontalalignment=\"center\",\n",
    "                     color=\"white\" if cm[i, j] > thresh else \"black\")\n",
    "\n",
    "        plt.tight_layout()\n",
    "        plt.ylabel('True label')\n",
    "        plt.xlabel('Predicted label')\n",
    "    class_names = ['not recommand','recommand']\n",
    "    cnf_matrix = confusion_matrix(y_test3,y_pred3)\n",
    "    np.set_printoptions(precision=2)\n",
    "    plt.figure()\n",
    "    plot_confusion_matrix(cnf_matrix, classes=class_names, normalize=True,\n",
    "                          title='rf')\n",
    "\n",
    "\n",
    "    plt.show()\n",
    "    return a\n",
    "rf()"
   ]
  },
  {
   "cell_type": "markdown",
   "metadata": {},
   "source": [
    "#### 結果觀察\n",
    "    \n",
    "我們可以看到 MSE（方均差）並不是非常高，而從混淆矩陣顯示的結果看來，也是可以接受的。因此，由 Random Forest Regressor 模型訓練資料的結果是不錯的，我們接著繼續嘗試不同的模型。不過，由於是以推薦系統為主題，而以上方法顯示的推薦資訊並不夠完整，所以我又定義了一個方法來顯示完整的推薦資訊。"
   ]
  },
  {
   "cell_type": "markdown",
   "metadata": {},
   "source": [
    "### 定義推薦資訊顯示方法"
   ]
  },
  {
   "cell_type": "code",
   "execution_count": 24,
   "metadata": {},
   "outputs": [],
   "source": [
    "def rec(result, uid,n,rawId= False):\n",
    "    if uid in range(total_u):\n",
    "        #np.argpartition() 函數是一個我認為較 np.argsort() 高效地排列方式，兩個都可以使用，看自己習慣。\n",
    "\t\t# we take the first n people's highest score product\n",
    "        top_N = np.argpartition(result[uid],-n)[-n:]\n",
    "        print('為用戶 {} 推薦的前{}名產品為 {}'.format(uid,n,top_N))\n",
    "\t\t# if rawID is on, the out put contains the real product id\n",
    "        if rawId == True:\n",
    "            print('real ID 是 {}'.format(pid2PID[top_N]))\n",
    "    else:\n",
    "        print('該用戶尚未購買產品，請使用其他方法')\n",
    "    return top_N"
   ]
  },
  {
   "cell_type": "markdown",
   "metadata": {},
   "source": [
    "### 以距離為基準的模型\n",
    "\n",
    "定義完推薦資訊顯示方法後，繼續嘗試不同的模型，首先嘗試的是 Distance Based Model ，此模型會給出向量間的相似程度。我們以 cosine 的方式來計算兩個內部產品空間中的非0向量間角度的相似程度，會在範圍 -1 到 1 之間（-1表示完全相反，1表示完全相同）。\n",
    "\n",
    "由於傳統協同過濾模型的方均差會稍高，我決定使用 quasi-SVD 替代。由此方法，輸出的矩陣會是三個矩陣的點產物。"
   ]
  },
  {
   "cell_type": "code",
   "execution_count": 21,
   "metadata": {},
   "outputs": [
    {
     "name": "stdout",
     "output_type": "stream",
     "text": [
      "the in sample MSE = 2.181532608112232 \n",
      "the out sample MSE = 2.258277969585437\n",
      "caculating cm..\n",
      "Normalized confusion matrix\n",
      "[[0.42 0.58]\n",
      " [0.34 0.66]]\n"
     ]
    },
    {
     "data": {
      "image/png": "[encoded data removed]",
      "text/plain": [
       "<matplotlib.figure.Figure at 0x1a2b9457f0>"
      ]
     },
     "metadata": {},
     "output_type": "display_data"
    },
    {
     "name": "stdout",
     "output_type": "stream",
     "text": [
      "為用戶 10 推薦的前 10 名產品為 [ 644  151  455   52 1072 1051  127 1067  106    0]\n",
      "real ID 是 ['B0058AMYTC' 'B00472I5A4' 'B0058AMY10' 'B0058AMY74' 'B001SAXPEO'\n",
      " 'B006WYSFZK' 'B000G6MBUA' 'B004728MI4' 'B0012XBD7I' 'B000G6RYNE']\n"
     ]
    },
    {
     "data": {
      "text/plain": [
       "array([ 644,  151,  455,   52, 1072, 1051,  127, 1067,  106,    0])"
      ]
     },
     "execution_count": 21,
     "metadata": {},
     "output_type": "execute_result"
    }
   ],
   "source": [
    "from sklearn.metrics.pairwise import pairwise_distances\n",
    "def cf(table = table,distance = 'cosine'):\n",
    "    user_similarity = pairwise_distances(table, metric=distance)\n",
    "    item_similarity = pairwise_distances(table.T, metric=distance)\n",
    "    sc = MinMaxScaler(feature_range=(1,5))\n",
    "    a = sc.fit_transform(np.dot(user_similarity,table).dot(item_similarity))\n",
    "    return a\n",
    "result =cf()\n",
    "caculate_mse(result)\n",
    "drawcm(result,title='MF')\n",
    "rec(result, 10,10,rawId= True)"
   ]
  },
  {
   "cell_type": "markdown",
   "metadata": {},
   "source": [
    "    由此結果，發現此方法的優勢是他是較可讀可解釋的。\n",
    "    不過他的缺點也很明顯，對於較龐大的資料集，需要較長的計算時間。\n",
    "    m^2+n^2 ，需要數學佐證，不多作解釋。"
   ]
  },
  {
   "cell_type": "markdown",
   "metadata": {},
   "source": [
    "### SVD\n",
    "\n",
    "在我們的推薦系統中，我們有矩陣顯示出很多用戶對於產品的評分。在前面有提到，我希望利用這些資料做出分數預測，並對目標用戶提供推薦資訊。\n",
    "而接下來我要使用到的SVD 模型的優勢在於用戶評分矩陣是一個稀疏矩陣（定義及用法會用文檔解釋），這會使我們可以將原始資料降維，讓計算複雜度降低，也就解決了上一個模型發生的問題："
   ]
  },
  {
   "cell_type": "code",
   "execution_count": 23,
   "metadata": {
    "scrolled": true
   },
   "outputs": [
    {
     "name": "stdout",
     "output_type": "stream",
     "text": [
      "the in sample MSE = 0.3982335596954266 \n",
      "the out sample MSE = 0.39813597209585755\n",
      "caculating cm..\n",
      "Normalized confusion matrix\n",
      "[[0.96 0.04]\n",
      " [0.15 0.85]]\n"
     ]
    },
    {
     "data": {
      "image/png": "[encoded data removed]",
      "text/plain": [
       "<matplotlib.figure.Figure at 0x1a29d9f5f8>"
      ]
     },
     "metadata": {},
     "output_type": "display_data"
    },
    {
     "name": "stdout",
     "output_type": "stream",
     "text": [
      "為用戶 10 推薦的前10名產品為 [ 918 1072 1067  151  127  799  106   52 1051    0]\n",
      "real ID 是 ['B000G6O2QG' 'B001SAXPEO' 'B004728MI4' 'B00472I5A4' 'B000G6MBUA'\n",
      " 'B0058AMY5G' 'B0012XBD7I' 'B0058AMY74' 'B006WYSFZK' 'B000G6RYNE']\n"
     ]
    },
    {
     "data": {
      "text/plain": [
       "array([ 918, 1072, 1067,  151,  127,  799,  106,   52, 1051,    0])"
      ]
     },
     "execution_count": 23,
     "metadata": {},
     "output_type": "execute_result"
    }
   ],
   "source": [
    "from numpy import *\n",
    "from scipy.sparse.linalg import svds\n",
    "from numpy import linalg as la\n",
    "from sklearn.preprocessing import MinMaxScaler\n",
    "def svdrec(table = table, factors= 150):\n",
    "    UI = matrix(table)\n",
    "    # ui_df = pd.DataFrame(UI,index=table.index, columns=table.columns)\n",
    "    # 使用mean() 函數計算評分的平均\n",
    "    user_ratings_mean=mean(UI,axis=0)\n",
    "    # 計算平均後，資料的結構會亂掉，我們用 np.reshape() 函數將矩陣重組\n",
    "    # 參數 -1 在函數中表示自動計算矩陣裡面所有元素的個數\n",
    "    user_ratings_mean=user_ratings_mean.reshape(1,-1)\n",
    "    \n",
    "    # 參照 SVD 模型 原理及用法：\n",
    "    UI_demeaned=UI-user_ratings_mean\n",
    "    U,sigma,Vt=svds(UI_demeaned,factors)\n",
    "    sigma=diag(sigma)\n",
    "    pred_mat=dot(dot(U,sigma),Vt) + user_ratings_mean\n",
    "    sc=MinMaxScaler(feature_range = (1,5))\n",
    "    pred_mat = sc.fit_transform(pred_mat)\n",
    "    # prediction_df=pd.DataFrame(pred_mat,index=table.index,columns=table.columns)\n",
    "    return pred_mat\n",
    "def rec(result, uid,n,rawId= False):\n",
    "    if uid in range(total_u):\n",
    "\t\t# we take the first n people's highest score product\n",
    "        top_N = np.argpartition(result[uid],-n)[-n:]\n",
    "        print('為用戶 {} 推薦的前{}名產品為 {}'.format(uid,n,top_N))\n",
    "\t\t# if rawID is on, the out put contains the real product id\n",
    "        if rawId == True:\n",
    "            print('real ID 是 {}'.format(pid2PID[top_N]))\n",
    "    else:\n",
    "        print('該用戶尚未購買產品，請使用其他方法')\n",
    "    return top_N\n",
    "result1 =svdrec(factors=150)\n",
    "caculate_mse(result1)\n",
    "drawcm(result1,title='SVD')\n",
    "rec(result1, 10,10,rawId= True)"
   ]
  },
  {
   "cell_type": "markdown",
   "metadata": {},
   "source": [
    "    由此結果我們可以觀察到，相對於以上一個模型訓練資料，這次的結果好了非常多，不僅推薦的準確度較高，計算複雜度也較低。"
   ]
  },
  {
   "cell_type": "markdown",
   "metadata": {},
   "source": [
    "### Matrix Factoriztion\n",
    "\n",
    "Latent factor models are an alternative approach that tries to explain the ratings by characterizing both items and users on, say, 20 to 100 factors inferred from the ratings patterns. For products, the discovered factors might measure obvious dimensions such as candy vs drinks, or adult food vs children’s; For users, each factor measures how much the user likes the product that score high on the corresponding movie factor. Using latent factor model, we transform the way to calculate the similarity of users and products. The features become more stable and condense.\n",
    "\n",
    "    首先，我們先建立兩個新的矩陣，分別為 user_latent_factor 和 product_latent_factor 。大小為 qf 和 pf ，q p 分別為用戶以及產品的總數，而 f 為潛在因素的數量，如此，便可以開始計算目標矩陣。\n",
    "    \n",
    "    接著，定義一個基於最小方均差函數的目標導向方法，這個方法能幫助我們訓練到損失最小的狀況。\n",
    "    "
   ]
  },
  {
   "cell_type": "code",
   "execution_count": 10,
   "metadata": {},
   "outputs": [],
   "source": [
    "def MF1(data=z, factors=30, maxIter=100, LRate=0.02, GD_end=1e-3, plot=False):\n",
    "    # initial the latent matrix for user and item\n",
    "    P = np.random.rand(total_u, factors) / 3\n",
    "    Q = np.random.rand(total_p, factors) / 3\n",
    "    # initial y as the history of loss\n",
    "    y = []\n",
    "    # initial the iteration and last loss\n",
    "    iteration = 0\n",
    "    last_loss = 0\n",
    "    while iteration < maxIter:\n",
    "        loss = 0\n",
    "        for i in range(data.shape[0]):\n",
    "            # get the uid,pid and the score from every line\n",
    "            u, p, s = data[i]\n",
    "            # calculate the error\n",
    "            error = s - np.dot(P[u], Q[p])\n",
    "            # calculate the loss function\n",
    "            # avoid loss become to large, scale to 1/50\n",
    "            loss += error ** 2 / 50\n",
    "            # update the parameter according to the gradient descent\n",
    "            pp = P[u]\n",
    "            qq = Q[p]\n",
    "            P[u] += LRate * error * qq\n",
    "            Q[p] += LRate * error * pp\n",
    "        iteration += 1\n",
    "        y.append(loss)\n",
    "        delta_loss = last_loss - loss\n",
    "        print('iter = {}, loss = {}, delta_loss = {}, LR = {}'.format(iteration, loss, delta_loss, LRate))\n",
    "        # update the learn rate to make sure it will converge\n",
    "        if abs(last_loss) > abs(loss):\n",
    "            LRate *= 1.05\n",
    "        else:\n",
    "            LRate *= 0.5\n",
    "        # When converge, stop the gradient descend\n",
    "        if abs(delta_loss) < abs(GD_end):\n",
    "            print('the diff in loss is {}, so the GD stops'.format(delta_loss))\n",
    "            break\n",
    "        last_loss = loss\n",
    "    if plot:\n",
    "        plt.plot(y)\n",
    "        plt.show()\n",
    "    return P.dot(Q.T)"
   ]
  },
  {
   "cell_type": "markdown",
   "metadata": {},
   "source": [
    "### 訓練開始囉！\n",
    "\n",
    "The system adjusts the model by fitting the previously observed ratings. However, the goal is to generalize those previous ratings in a way that predicts the unknown ratings. Thus, the system should avoid overfitting the observed data by regularizing the learned parameters by adding L2 term. The constant λ controls the extent of regularization and is usually determined by cross-validation. Next, we use stochastic gradient descent to optimize the objective function. \n",
    "\n",
    "Where gamma is the stochastic learning rate and e is the error term. In the iteration, when the change in loss is larger than 0, the learning rate increases by 5%; if delta-loss is smaller than 0, it means the new loss is becoming larger. The learning rate decreases by 50% so that the loss can converge."
   ]
  },
  {
   "cell_type": "code",
   "execution_count": 25,
   "metadata": {},
   "outputs": [
    {
     "name": "stdout",
     "output_type": "stream",
     "text": [
      "iter = 1, loss = 3290.948884946758, delta_loss = -3290.948884946758, LR = 0.02\n",
      "iter = 2, loss = 959.398582108444, delta_loss = 2331.550302838314, LR = 0.01\n",
      "iter = 3, loss = 621.0435581171475, delta_loss = 338.35502399129643, LR = 0.0105\n",
      "iter = 4, loss = 572.1756559275968, delta_loss = 48.867902189550705, LR = 0.011025000000000002\n",
      "iter = 5, loss = 536.9544607895344, delta_loss = 35.2211951380624, LR = 0.011576250000000003\n",
      "iter = 6, loss = 501.0207073284666, delta_loss = 35.93375346106785, LR = 0.012155062500000004\n",
      "iter = 7, loss = 460.9884894843683, delta_loss = 40.032217844098284, LR = 0.012762815625000005\n",
      "iter = 8, loss = 417.71407616828355, delta_loss = 43.27441331608475, LR = 0.013400956406250006\n",
      "iter = 9, loss = 373.41339854373945, delta_loss = 44.30067762454411, LR = 0.014071004226562506\n",
      "iter = 10, loss = 329.9940045899803, delta_loss = 43.41939395375914, LR = 0.014774554437890632\n",
      "iter = 11, loss = 289.0851249328683, delta_loss = 40.90887965711198, LR = 0.015513282159785164\n",
      "iter = 12, loss = 251.9259905078987, delta_loss = 37.159134424969636, LR = 0.016288946267774423\n",
      "iter = 13, loss = 219.1729602386952, delta_loss = 32.75303026920349, LR = 0.017103393581163143\n",
      "iter = 14, loss = 191.02506127208855, delta_loss = 28.147898966606647, LR = 0.0179585632602213\n",
      "iter = 15, loss = 167.3393626669815, delta_loss = 23.685698605107063, LR = 0.018856491423232365\n",
      "iter = 16, loss = 147.71396095557404, delta_loss = 19.62540171140745, LR = 0.019799315994393985\n",
      "iter = 17, loss = 131.6179234800493, delta_loss = 16.096037475524724, LR = 0.020789281794113684\n",
      "iter = 18, loss = 118.51327943527151, delta_loss = 13.1046440447778, LR = 0.02182874588381937\n",
      "iter = 19, loss = 107.91900360889782, delta_loss = 10.59427582637369, LR = 0.02292018317801034\n",
      "iter = 20, loss = 99.42536166815668, delta_loss = 8.493641940741142, LR = 0.024066192336910857\n",
      "iter = 21, loss = 92.68626488333503, delta_loss = 6.739096784821655, LR = 0.0252695019537564\n",
      "iter = 22, loss = 87.40886235248024, delta_loss = 5.277402530854786, LR = 0.02653297705144422\n",
      "iter = 23, loss = 83.34719444671333, delta_loss = 4.06166790576691, LR = 0.02785962590401643\n",
      "iter = 24, loss = 80.29897846726917, delta_loss = 3.0482159794441657, LR = 0.029252607199217254\n",
      "iter = 25, loss = 78.10255577338941, delta_loss = 2.1964226938797538, LR = 0.030715237559178116\n",
      "iter = 26, loss = 76.63257252108326, delta_loss = 1.4699832523061502, LR = 0.03225099943713702\n",
      "iter = 27, loss = 75.79494022819505, delta_loss = 0.8376322928882161, LR = 0.03386354940899387\n",
      "iter = 28, loss = 75.52235824473722, delta_loss = 0.272581983457826, LR = 0.03555672687944357\n",
      "iter = 29, loss = 75.77144627943386, delta_loss = -0.24908803469664065, LR = 0.03733456322341575\n",
      "iter = 30, loss = 61.218717114020556, delta_loss = 14.552729165413304, LR = 0.018667281611707876\n",
      "iter = 31, loss = 59.73095360908984, delta_loss = 1.4877635049307187, LR = 0.01960064569229327\n",
      "iter = 32, loss = 59.71229643749824, delta_loss = 0.018657171591598853, LR = 0.020580677976907935\n",
      "iter = 33, loss = 59.93814715875654, delta_loss = -0.22585072125830408, LR = 0.02160971187575333\n",
      "iter = 34, loss = 53.037547858020204, delta_loss = 6.900599300736339, LR = 0.010804855937876666\n",
      "iter = 35, loss = 52.54928561484664, delta_loss = 0.4882622431735655, LR = 0.0113450987347705\n",
      "iter = 36, loss = 52.597556454547515, delta_loss = -0.04827083970087642, LR = 0.011912353671509024\n",
      "iter = 37, loss = 49.112573867135154, delta_loss = 3.484982587412361, LR = 0.005956176835754512\n",
      "iter = 38, loss = 48.94993409761371, delta_loss = 0.16263976952144077, LR = 0.006253985677542238\n",
      "iter = 39, loss = 48.9756778866263, delta_loss = -0.025743789012587115, LR = 0.00656668496141935\n",
      "iter = 40, loss = 47.11210437663871, delta_loss = 1.8635735099875887, LR = 0.003283342480709675\n",
      "iter = 41, loss = 47.07151252247751, delta_loss = 0.04059185416119959, LR = 0.003447509604745159\n",
      "iter = 42, loss = 47.08999169101298, delta_loss = -0.018479168535471047, LR = 0.003619885084982417\n",
      "iter = 43, loss = 46.06890593178464, delta_loss = 1.0210857592283418, LR = 0.0018099425424912086\n",
      "iter = 44, loss = 46.06716055322791, delta_loss = 0.0017453785567340674, LR = 0.0019004396696157692\n",
      "iter = 45, loss = 46.080807280583265, delta_loss = -0.013646727355357768, LR = 0.0019954616530965578\n",
      "iter = 46, loss = 45.51757827607408, delta_loss = 0.5632290045091821, LR = 0.0009977308265482789\n",
      "iter = 47, loss = 45.523337813749976, delta_loss = -0.005759537675892545, LR = 0.0010476173678756928\n",
      "iter = 48, loss = 45.22556780292082, delta_loss = 0.29777001082915433, LR = 0.0005238086839378464\n",
      "iter = 49, loss = 45.229566841679215, delta_loss = -0.003999038758394136, LR = 0.0005499991181347388\n",
      "iter = 50, loss = 45.07303176328817, delta_loss = 0.15653507839104464, LR = 0.0002749995590673694\n",
      "iter = 51, loss = 45.07544396670887, delta_loss = -0.0024122034206968124, LR = 0.00028874953702073787\n",
      "iter = 52, loss = 44.99324274891285, delta_loss = 0.08220121779601897, LR = 0.00014437476851036893\n",
      "iter = 53, loss = 44.994597133003595, delta_loss = -0.0013543840907459526, LR = 0.0001515935069358874\n",
      "iter = 54, loss = 44.95144060044432, delta_loss = 0.043156532559272875, LR = 7.57967534679437e-05\n",
      "iter = 55, loss = 44.95217593896267, delta_loss = -0.0007353385183463956, LR = 7.958659114134088e-05\n",
      "the diff in loss is -0.0007353385183463956, so the GD stops\n"
     ]
    },
    {
     "data": {
      "image/png": "[encoded data removed]",
      "text/plain": [
       "<matplotlib.figure.Figure at 0x1a29fd44a8>"
      ]
     },
     "metadata": {},
     "output_type": "display_data"
    },
    {
     "name": "stdout",
     "output_type": "stream",
     "text": [
      "the in sample MSE = 0.035369441873866064 \n",
      "the out sample MSE = 0.033801742358736835\n",
      "caculating cm..\n",
      "Normalized confusion matrix\n",
      "[[0.99 0.01]\n",
      " [0.14 0.86]]\n"
     ]
    },
    {
     "data": {
      "image/png": "[encoded data removed]",
      "text/plain": [
       "<matplotlib.figure.Figure at 0x1a2a663cc0>"
      ]
     },
     "metadata": {},
     "output_type": "display_data"
    },
    {
     "name": "stdout",
     "output_type": "stream",
     "text": [
      "為用戶 10 推薦的前10名產品為 [ 729 1093  256  201  595  182  155   80  243   96]\n",
      "real ID 是 ['B000ZSZ5S4' 'B004HOSGWE' 'B004HOQE64' 'B001EQ4QJK' 'B004HOOZEW'\n",
      " 'B004HOLD4W' 'B001EQ4RBM' 'B001EQ4P2I' 'B001KVPBS4' 'B004HOLD92']\n"
     ]
    },
    {
     "data": {
      "text/plain": [
       "array([ 729, 1093,  256,  201,  595,  182,  155,   80,  243,   96])"
      ]
     },
     "execution_count": 25,
     "metadata": {},
     "output_type": "execute_result"
    }
   ],
   "source": [
    "result =MF1( factors=30, maxIter=100, LRate=0.02, GD_end=1e-3, plot=1)\n",
    "caculate_mse(result)\n",
    "drawcm(result,title='MF')\n",
    "def rec(result, uid,n,rawId= False):\n",
    "    if uid in range(total_u):\n",
    "\t\t# we take the first n people's highest score product\n",
    "        top_N = np.argpartition(result[uid],-n)[-n:]\n",
    "        print('為用戶 {} 推薦的前{}名產品為 {}'.format(uid,n,top_N))\n",
    "\t\t# if rawID is on, the out put contains the real product id\n",
    "        if rawId == True:\n",
    "            print('real ID 是 {}'.format(pid2PID[top_N]))\n",
    "    else:\n",
    "        print('該用戶尚未購買產品，請使用其他方法')\n",
    "    return top_N\n",
    "rec(result, 10,10,rawId= True)"
   ]
  },
  {
   "cell_type": "markdown",
   "metadata": {},
   "source": [
    "    觀察以上結果，由損失隨迭代次數提升的下降率，我們可以發現圖形呈現「肘型」的樣子，這表示資料會隨著迭代次數越來越沒有效率，也就是說，如果需要訓練的資料非常龐大，我們可以控制該模型跑到「肘點」就好了，這樣效率會大幅度提升，結果也不會差太多，更能減少成本。\n",
    "    \n",
    "    接著，觀察混淆矩陣，可以發現經過不斷迭代訓練的資料相對於之前準確性有很大的提升，這也會直接導致預測的結果會更好。以產品推薦資訊為例，我們藉由此就可以準確的預測用戶會購買的潛在商品，並作出更好的推薦資訊、廣告投放等等。"
   ]
  },
  {
   "cell_type": "markdown",
   "metadata": {},
   "source": [
    "### Probabilistic Matrix Factoriztion\n",
    "\n",
    "儘管剛剛的結果已經達成我所預定的目標，不過這邊我還是想試試看一個與 MF 相當相似的推薦系統演算法（Probabilistic Matrix Factoriztion - PMF），以此觀察兩種演算法成效差異。\n",
    "\n",
    "    理論上來說，PMF會比MF多出：\n",
    "    1. 用戶與產品的高斯分佈假設\n",
    "    2. 對稀疏矩陣的梯度下降過程處理得更好。\n",
    "        第二點也是由於多出的高斯分佈假設，這能使預測更為準確。"
   ]
  },
  {
   "cell_type": "code",
   "execution_count": 12,
   "metadata": {},
   "outputs": [
    {
     "name": "stdout",
     "output_type": "stream",
     "text": [
      "iter = 1, loss = 3463.039073299022, delta_loss = -3363.039073299022, LR = 0.02\n",
      "iter = 2, loss = 1107.3304664176942, delta_loss = 2355.708606881328, LR = 0.01\n",
      "iter = 3, loss = 789.2532619363215, delta_loss = 318.07720448137275, LR = 0.0105\n",
      "iter = 4, loss = 745.1255103686335, delta_loss = 44.12775156768794, LR = 0.011025000000000002\n",
      "iter = 5, loss = 715.0196860492166, delta_loss = 30.10582431941691, LR = 0.011576250000000003\n",
      "iter = 6, loss = 684.9630709461223, delta_loss = 30.05661510309426, LR = 0.012155062500000004\n",
      "iter = 7, loss = 650.871306068651, delta_loss = 34.09176487747129, LR = 0.012762815625000005\n",
      "iter = 8, loss = 612.7451074438544, delta_loss = 38.12619862479664, LR = 0.013400956406250006\n",
      "iter = 9, loss = 572.8091678620531, delta_loss = 39.935939581801335, LR = 0.014071004226562506\n",
      "iter = 10, loss = 533.3182804067711, delta_loss = 39.49088745528195, LR = 0.014774554437890632\n",
      "iter = 11, loss = 495.7982767422677, delta_loss = 37.520003664503406, LR = 0.015513282159785164\n",
      "iter = 12, loss = 461.31266099713446, delta_loss = 34.48561574513326, LR = 0.016288946267774423\n",
      "iter = 13, loss = 430.53838027681536, delta_loss = 30.774280720319098, LR = 0.017103393581163143\n",
      "iter = 14, loss = 403.7610578616801, delta_loss = 26.777322415135245, LR = 0.0179585632602213\n",
      "iter = 15, loss = 380.94200343322314, delta_loss = 22.81905442845698, LR = 0.018856491423232365\n",
      "iter = 16, loss = 361.8220052118286, delta_loss = 19.119998221394553, LR = 0.019799315994393985\n",
      "iter = 17, loss = 346.0284642046562, delta_loss = 15.793541007172394, LR = 0.020789281794113684\n",
      "iter = 18, loss = 333.1540542353424, delta_loss = 12.874409969313774, LR = 0.02182874588381937\n",
      "iter = 19, loss = 322.79712980282113, delta_loss = 10.356924432521282, LR = 0.02292018317801034\n",
      "iter = 20, loss = 314.57787134433784, delta_loss = 8.219258458483296, LR = 0.024066192336910857\n",
      "iter = 21, loss = 308.14653661560374, delta_loss = 6.4313347287341, LR = 0.0252695019537564\n",
      "iter = 22, loss = 303.19062459881616, delta_loss = 4.955912016787579, LR = 0.02653297705144422\n",
      "iter = 23, loss = 299.4406535195002, delta_loss = 3.7499710793159693, LR = 0.02785962590401643\n",
      "iter = 24, loss = 296.67256666507336, delta_loss = 2.7680868544268264, LR = 0.029252607199217254\n",
      "iter = 25, loss = 294.7059211454656, delta_loss = 1.9666455196077663, LR = 0.030715237559178116\n",
      "iter = 26, loss = 293.3986967039338, delta_loss = 1.3072244415317869, LR = 0.03225099943713702\n",
      "iter = 27, loss = 292.6405256100056, delta_loss = 0.7581710939281834, LR = 0.03386354940899387\n",
      "iter = 28, loss = 292.34608736246685, delta_loss = 0.29443824753877834, LR = 0.03555672687944357\n",
      "iter = 29, loss = 292.4497344888481, delta_loss = -0.10364712638124729, LR = 0.03733456322341575\n",
      "iter = 30, loss = 281.06280993361435, delta_loss = 11.386924555233747, LR = 0.018667281611707876\n",
      "iter = 31, loss = 279.83647477126635, delta_loss = 1.2263351623479934, LR = 0.01960064569229327\n",
      "iter = 32, loss = 279.92116352257483, delta_loss = -0.08468875130847664, LR = 0.020580677976907935\n",
      "iter = 33, loss = 274.9061682815277, delta_loss = 5.0149952410471315, LR = 0.010290338988453968\n",
      "iter = 34, loss = 274.4073392605711, delta_loss = 0.49882902095657755, LR = 0.010804855937876666\n",
      "iter = 35, loss = 274.4661120309873, delta_loss = -0.05877277041616935, LR = 0.0113450987347705\n",
      "iter = 36, loss = 271.96640849654983, delta_loss = 2.499703534437458, LR = 0.00567254936738525\n",
      "iter = 37, loss = 271.74330877289395, delta_loss = 0.22309972365587782, LR = 0.005956176835754512\n",
      "iter = 38, loss = 271.7761426576327, delta_loss = -0.03283388473874993, LR = 0.006253985677542238\n",
      "iter = 39, loss = 270.41657118793626, delta_loss = 1.3595714696964478, LR = 0.003126992838771119\n",
      "iter = 40, loss = 270.32942562598475, delta_loss = 0.0871455619515018, LR = 0.003283342480709675\n",
      "iter = 41, loss = 270.34944603405773, delta_loss = -0.020020408072980445, LR = 0.003447509604745159\n",
      "iter = 42, loss = 269.5715515819231, delta_loss = 0.7778944521346602, LR = 0.0017237548023725795\n",
      "iter = 43, loss = 269.5509387674597, delta_loss = 0.020612814463390805, LR = 0.0018099425424912086\n",
      "iter = 44, loss = 269.5647494820637, delta_loss = -0.013810714604005625, LR = 0.0019004396696157692\n",
      "iter = 45, loss = 269.1176855388647, delta_loss = 0.447063943198998, LR = 0.0009502198348078846\n",
      "iter = 46, loss = 269.1190899809261, delta_loss = -0.0014044420614141018, LR = 0.0009977308265482789\n",
      "iter = 47, loss = 268.87376097991756, delta_loss = 0.2453290010085425, LR = 0.0004988654132741394\n",
      "iter = 48, loss = 268.87690064927534, delta_loss = -0.0031396693577789847, LR = 0.0005238086839378464\n",
      "iter = 49, loss = 268.74593751202895, delta_loss = 0.13096313724639685, LR = 0.0002619043419689232\n",
      "iter = 50, loss = 268.7483295508539, delta_loss = -0.0023920388249507596, LR = 0.0002749995590673694\n",
      "iter = 51, loss = 268.6790592572748, delta_loss = 0.06927029357910897, LR = 0.0001374997795336847\n",
      "iter = 52, loss = 268.68051948234773, delta_loss = -0.0014602250729467414, LR = 0.00014437476851036893\n",
      "iter = 53, loss = 268.64402202269855, delta_loss = 0.036497459649183384, LR = 7.218738425518447e-05\n",
      "iter = 54, loss = 268.64484436132017, delta_loss = -0.0008223386216172912, LR = 7.57967534679437e-05\n",
      "the diff in loss is -0.0008223386216172912, so the GD stops\n"
     ]
    },
    {
     "data": {
      "image/png": "[encoded data removed]",
      "text/plain": [
       "<matplotlib.figure.Figure at 0x1a2bb5f588>"
      ]
     },
     "metadata": {},
     "output_type": "display_data"
    },
    {
     "name": "stdout",
     "output_type": "stream",
     "text": [
      "the in sample MSE = 0.03780202135302932 \n",
      "the out sample MSE = 0.03619934343418913\n",
      "caculating cm..\n",
      "Normalized confusion matrix\n",
      "[[0.99 0.01]\n",
      " [0.19 0.81]]\n"
     ]
    },
    {
     "data": {
      "image/png": "[encoded data removed]",
      "text/plain": [
       "<matplotlib.figure.Figure at 0x1a2bacfeb8>"
      ]
     },
     "metadata": {},
     "output_type": "display_data"
    },
    {
     "name": "stdout",
     "output_type": "stream",
     "text": [
      "the top10 recommanded products for user 10 is [467 624 629 739 894 833 374 504 512 969]\n",
      "the real ID is ['B008YA1NWC' 'B007TJGY5K' 'B003Z6W32E' 'B004NSH6O8' 'B001D0GVAO'\n",
      " 'B005NVU5BK' 'B001EO5Q64' 'B003G52BN0' 'B000H7LVKY' 'B000HDK0DC']\n"
     ]
    },
    {
     "data": {
      "text/plain": [
       "array([467, 624, 629, 739, 894, 833, 374, 504, 512, 969])"
      ]
     },
     "execution_count": 12,
     "metadata": {},
     "output_type": "execute_result"
    }
   ],
   "source": [
    "def PMF(data=z, factors=30, maxIter=100, LRate=0.02, GD_end=1e-3, regU = 0.01 ,regI = 0.01 ,plot=False):\n",
    "    P = np.random.rand(total_u, factors) / 3\n",
    "    Q = np.random.rand(total_p, factors) / 3\n",
    "    y = []\n",
    "    iteration = 0\n",
    "    last_loss = 100\n",
    "    while iteration < maxIter:\n",
    "        loss = 0\n",
    "        for i in range(data.shape[0]):\n",
    "            u, p, s = data[i]\n",
    "            error = s - np.dot(P[u], Q[p])\n",
    "            loss += error ** 2/50\n",
    "            pp = P[u]\n",
    "            qq = Q[p]\n",
    "            P[u] += LRate *  (error * qq - regU*pp)\n",
    "            Q[p] += LRate * (error * pp - regI * qq)\n",
    "        loss += regU*(P*P).sum() +regI*(Q*Q).sum()\n",
    "        iteration += 1\n",
    "        y.append(loss)\n",
    "        delta_loss = last_loss - loss\n",
    "        print('iter = {}, loss = {}, delta_loss = {}, LR = {}'.format(iteration, loss, delta_loss, LRate))\n",
    "        if abs(last_loss) > abs(loss):\n",
    "            LRate *= 1.05\n",
    "        else:\n",
    "            LRate *= 0.5\n",
    "\n",
    "        if abs(delta_loss) < abs(GD_end):\n",
    "            print('the diff in loss is {}, so the GD stops'.format(delta_loss))\n",
    "            break\n",
    "        last_loss = loss\n",
    "    if plot:\n",
    "        plt.plot(y)\n",
    "        plt.show()\n",
    "    return P.dot(Q.T)\n",
    "result =PMF( factors=30, maxIter=100, LRate=0.02, GD_end=1e-3, plot=1)\n",
    "caculate_mse(result)\n",
    "drawcm(result,title='PMF')\n",
    "def rec(result, uid,n,rawId= False):\n",
    "    if uid in range(total_u):\n",
    "\t\t# we take the first n people's highest score product\n",
    "        top_N = np.argpartition(result[uid],-n)[-n:]\n",
    "        print('the top{} recommanded products for user {} is {}'.format(n,uid,top_N))\n",
    "\t\t# if rawID is on, the out put contains the real product id\n",
    "        if rawId == True:\n",
    "            print('the real ID is {}'.format(pid2PID[top_N]))\n",
    "    else:\n",
    "        print('this user has not bought anything, plz use other methods')\n",
    "    return top_N\n",
    "rec(result, 10,10,rawId= True)"
   ]
  },
  {
   "cell_type": "markdown",
   "metadata": {},
   "source": [
    "\n",
    "    觀察此結果，並與 MF 的結果對比，我們發現其實相差不大，甚至可以說近乎是一樣的效果。還記得我們剛才說 PMF 比 MF 多出了高斯分布假定能夠讓其預測更到味，但貌似並沒有發生，為什麼呢？\n",
    "    \n",
    "    其實原因很簡單，因為我所使用的矩陣並非稀疏矩陣，這也導致前提並沒有達成，所以結果才會如此相似。\n",
    "    \n",
    "## 結論\n",
    "\n",
    "不管是 MF 還是 PMF 其實都達成了我對於此推薦系統的目標 -- 提供個別用戶詳細的推薦資訊。\n",
    "\n",
    "這次的以製作推薦系統為主題的期末專題，歷時了將近一個月，為了將達成預定的目標，花費了相當多的心力，例如：學習機器學習中的各種訓練方法、回顧各種模型的原理及功能、學習推薦系統的進階演算法等等。不過也因此得到了相當多的東西，這是在其他課程都無法達到的程度，非常感謝老師設計這樣的期末專題讓我們實作，讓我們在壓力中逼迫自己成長進步。\n",
    "\n",
    "# 感謝老師與助教的觀看，謝謝！"
   ]
  },
  {
   "cell_type": "code",
   "execution_count": null,
   "metadata": {},
   "outputs": [],
   "source": []
  }
 ],
 "metadata": {
  "kernelspec": {
   "display_name": "Python 3",
   "language": "python",
   "name": "python3"
  },
  "language_info": {
   "codemirror_mode": {
    "name": "ipython",
    "version": 3
   },
   "file_extension": ".py",
   "mimetype": "text/x-python",
   "name": "python",
   "nbconvert_exporter": "python",
   "pygments_lexer": "ipython3",
   "version": "3.6.4"
  }
 },
 "nbformat": 4,
 "nbformat_minor": 2
}
